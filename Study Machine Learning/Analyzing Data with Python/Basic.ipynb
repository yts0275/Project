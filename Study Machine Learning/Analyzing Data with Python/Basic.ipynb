{
 "cells": [
  {
   "cell_type": "markdown",
   "metadata": {},
   "source": [
    "자동차의 가격을 결정하는 데 무엇이 도움을 줄까?\n",
    "1. 다른 차량의 가격 및 특성에 대한 데이터가 있는가?\n",
    "2. 차량의 어떤 기능이 가격에 영향을 주는가?"
   ]
  },
  {
   "cell_type": "markdown",
   "metadata": {},
   "source": [
    "# 자동차 데이터 set\n",
    "http://archive.ics.uci.edu/ml/machine-learning-databases/autos/"
   ]
  },
  {
   "cell_type": "markdown",
   "metadata": {},
   "source": [
    "# 파이썬 데이터 분석 라이브러리\n",
    "    \n",
    "    1. Pandas\n",
    "        - 효과적인 데이터 조작 및 분석\n",
    "        - 구조화 된 ㅔㄷ이터 제공\n",
    "        - 열과 행 레이블로 구성된 2차원 테이블 - DataFrame\n",
    "        \n",
    "    2. Numpy\n",
    "        - 입력과 출력을 위해 배열을 사용\n",
    "        - 배열을 매트릭스에 대한 객체로 확장 가능\n",
    "        - 빠른 어레이 처리 가능\n",
    "    \n",
    "    3. Scipy\n",
    "        - 일부 고급 수학 문제에 대한 함수 내포\n",
    "        - 데이터 시각화에 유용"
   ]
  },
  {
   "cell_type": "markdown",
   "metadata": {},
   "source": [
    "# 파이썬 시각화 라이브러리\n",
    "    1. Mayplotlib\n",
    "    2. Seaborn"
   ]
  },
  {
   "cell_type": "markdown",
   "metadata": {},
   "source": [
    "# 알고리즘 라이브러리\n",
    "    1. Scikit-learn\n",
    "        - 통계 모델링, 회귀분석, 분류, 클러스터링 등\n",
    "        \n",
    "    2. StatsModels\n",
    "        - 사용자가 데이터를 탐색하고 통계를 추정 할 수있는 파이썬 모듈\n",
    "        - 모델을 만들고 통계 테스트 수행"
   ]
  },
  {
   "cell_type": "markdown",
   "metadata": {},
   "source": [
    "# 파이썬을 이용하여 데이터 읽기 - Pandas\n",
    "    ex) csv, josn, xlsx, hdf\n",
    "    - 맨 위의 링크에서 다운받은 import-data 사용"
   ]
  },
  {
   "cell_type": "code",
   "execution_count": 2,
   "metadata": {
    "scrolled": false
   },
   "outputs": [
    {
     "name": "stdout",
     "output_type": "stream",
     "text": [
      "<class 'pandas.core.frame.DataFrame'>\n",
      "RangeIndex: 205 entries, 0 to 204\n",
      "Data columns (total 26 columns):\n",
      "sysmboling           205 non-null int64\n",
      "normalized-losses    205 non-null object\n",
      "make                 205 non-null object\n",
      "fuel-type            205 non-null object\n",
      "aspiration           205 non-null object\n",
      "num-of-doors         205 non-null object\n",
      "body-style           205 non-null object\n",
      "drive-wheels         205 non-null object\n",
      "engine-location      205 non-null object\n",
      "wheel_base           205 non-null float64\n",
      "length               205 non-null float64\n",
      "width                205 non-null float64\n",
      "height               205 non-null float64\n",
      "curb-weight          205 non-null int64\n",
      "engine-type          205 non-null object\n",
      "num-of-cylinders     205 non-null object\n",
      "engine-size          205 non-null int64\n",
      "fuel-system          205 non-null object\n",
      "bore                 205 non-null object\n",
      "stroke               205 non-null object\n",
      "compression-ratio    205 non-null float64\n",
      "horsepower           205 non-null object\n",
      "peak-rpm             205 non-null object\n",
      "city-mpg             205 non-null int64\n",
      "highway-mpg          205 non-null int64\n",
      "price                205 non-null object\n",
      "dtypes: float64(5), int64(5), object(16)\n",
      "memory usage: 28.9+ KB\n"
     ]
    }
   ],
   "source": [
    "import pandas as pd\n",
    "\n",
    "# 파일 경로를 변수로 정의\n",
    "url = \"http://archive.ics.uci.edu/ml/machine-learning-databases/autos/imports-85.data\"\n",
    "\n",
    "# read_csv 메서드로 데이터\n",
    "# 이 데이터에는 열 머리글이 없으므로 read_csv를 지정해야 한다\n",
    "df = pd.read_csv(url, header = None)\n",
    "\n",
    "#처음 5개 행 표시\n",
    "df.head(5)\n",
    "\n",
    "#마지막 5개 행 표시\n",
    "df.tail(5)\n",
    "\n",
    "# 헤더 이름 지정\n",
    "headers = [\"sysmboling\", \"normalized-losses\",\"make\", \"fuel-type\", \"aspiration\", \"num-of-doors\",\n",
    "          \"body-style\", \"drive-wheels\",\"engine-location\",\"wheel_base\",\"length\",\"width\",\"height\",\n",
    "          \"curb-weight\",\"engine-type\",\"num-of-cylinders\",\"engine-size\",\"fuel-system\",\"bore\",\n",
    "          \"stroke\",\"compression-ratio\",\"horsepower\",\"peak-rpm\",\"city-mpg\",\"highway-mpg\",\"price\"]\n",
    "df.columns = headers\n",
    "\n",
    "# 경로에 csv 파일 저장\n",
    "path = \"C:\\\\MyJupyter\\Study Machine Learning\\\\Analyzing Data with Python\\\\automoblie.csv\"\n",
    "df.to_csv(path)\n",
    "\n",
    "# 데이터 타입 반환, 타입을 확인하여 수동으로 해주어야 할 수도 있다.\n",
    "df.dtypes\n",
    "\n",
    "# 효과적인 요약 메서드\n",
    "df.describe()\n",
    "\n",
    "# 모든 요악을 보기 위해서\n",
    "# unique = 열에있는 고유 한 개체의 수\n",
    "# top = 가장 사용된 개체, freq = 열에 맨 위 개체가 나타나는 횟수\n",
    "# NaN = \"숫자가 아님\"을 나타낸다 - 통계에 대해 계산할 수 없다는 뜻\n",
    "df.describe(include = \"all\")\n",
    "\n",
    "# DataFrame의 위쪽 30행과 아래쪽 30행을 표시\n",
    "df.info()"
   ]
  },
  {
   "cell_type": "markdown",
   "metadata": {},
   "source": [
    "# 데이터에 따른 저장 방법\n",
    "Data Format | Read |   Save\n",
    "\n",
    "    csv     | pd.read_csv()   | df.to_csv()\n",
    "    \n",
    "    json    | pd.read_json()  | df.to_json()\n",
    "    \n",
    "    Excel   | pd.read_excel() | df.to_excel()\n",
    "    \n",
    "    sql     | pd.read_sql()   | df.to_sql()"
   ]
  },
  {
   "cell_type": "markdown",
   "metadata": {},
   "source": [
    "# Data Pre-processing\n",
    "1. 누락된 값을 확인하고 처리하는 방법\n",
    "2. Data Formatting - 여러 데이터를 형식화\n",
    "3. 데이터 정규화 - Data Normalization\n",
    "    - 모든 데이터를 유사한 범위로 가져오는 방법\n",
    "            - 센터링, 스케일링 기술\n",
    "4. Data Binning\n",
    "    - 일련의 숫자 값에서 더 큰 카테고리를 만듬\n",
    "    - 데이터 그룹간의 비교에 유용\n",
    "5. 카테고리 변수, 카테고리를 전화나는 방법\n",
    "    - 값을 숫자 변수로 변환하여 통계 모델링을 쉽게 만듬"
   ]
  },
  {
   "cell_type": "markdown",
   "metadata": {},
   "source": [
    "# Dealing with Missing Values\n",
    "\n",
    "특정 관측치가 누락된 데이터 일때\n",
    "\"?\" , \"N/A\" , 0, 또는 빈 셀로 나타난다\n",
    "\n",
    "# 어떻게 처리할까 ?\n",
    "\n",
    "1. 데이터를 수집 한 사람 또는 그룹으로 되돌아가 실제 값을 찾는다\n",
    "\n",
    "2. 누락된 값이 있는 데이터를 삭제한다.\n",
    "    - 누락된 데이터가 많은 관찰 결과는 적으니, 일반적으로 엔트리를 삭제한다.\n",
    "        - 가장 영향력이 적은 데이터를 삭제한다.\n",
    "\n",
    "3. 데이터를 대체한다\n",
    "    - 어떤 데이터로 대체할지가 부정확 하기때문에 대체할 데이터를 잘 지정해줘야한다.\n",
    "    - 하나의 기술로, 평균값으로 대체하는 방법이 있다.\n",
    "    \n",
    "    - 평균값을 구할 수 없는 데이터일때 ?\n",
    "    \n",
    "4. 누락된 값을 추측할 수 있는 방법을 찾는다.\n",
    "    - 데이터 수집자가 누락된 정보에 대한 추가 정보를 가지고 있으므로 추측\n",
    "    \n",
    "5. 고의적으로 그냥 둔다"
   ]
  },
  {
   "cell_type": "markdown",
   "metadata": {},
   "source": [
    "# How to drop missing values"
   ]
  },
  {
   "cell_type": "code",
   "execution_count": 451,
   "metadata": {},
   "outputs": [
    {
     "data": {
      "text/html": [
       "<div>\n",
       "<style scoped>\n",
       "    .dataframe tbody tr th:only-of-type {\n",
       "        vertical-align: middle;\n",
       "    }\n",
       "\n",
       "    .dataframe tbody tr th {\n",
       "        vertical-align: top;\n",
       "    }\n",
       "\n",
       "    .dataframe thead th {\n",
       "        text-align: right;\n",
       "    }\n",
       "</style>\n",
       "<table border=\"1\" class=\"dataframe\">\n",
       "  <thead>\n",
       "    <tr style=\"text-align: right;\">\n",
       "      <th></th>\n",
       "      <th>sysmboling</th>\n",
       "      <th>wheel_base</th>\n",
       "      <th>length</th>\n",
       "      <th>width</th>\n",
       "      <th>height</th>\n",
       "      <th>curb-weight</th>\n",
       "      <th>engine-size</th>\n",
       "      <th>compression-ratio</th>\n",
       "      <th>city-mpg</th>\n",
       "      <th>highway-mpg</th>\n",
       "    </tr>\n",
       "  </thead>\n",
       "  <tbody>\n",
       "    <tr>\n",
       "      <th>count</th>\n",
       "      <td>205.000000</td>\n",
       "      <td>205.000000</td>\n",
       "      <td>205.000000</td>\n",
       "      <td>205.000000</td>\n",
       "      <td>205.000000</td>\n",
       "      <td>205.000000</td>\n",
       "      <td>205.000000</td>\n",
       "      <td>205.000000</td>\n",
       "      <td>205.000000</td>\n",
       "      <td>205.000000</td>\n",
       "    </tr>\n",
       "    <tr>\n",
       "      <th>mean</th>\n",
       "      <td>0.834146</td>\n",
       "      <td>98.756585</td>\n",
       "      <td>174.049268</td>\n",
       "      <td>65.907805</td>\n",
       "      <td>53.724878</td>\n",
       "      <td>2555.565854</td>\n",
       "      <td>126.907317</td>\n",
       "      <td>10.142537</td>\n",
       "      <td>25.219512</td>\n",
       "      <td>30.751220</td>\n",
       "    </tr>\n",
       "    <tr>\n",
       "      <th>std</th>\n",
       "      <td>1.245307</td>\n",
       "      <td>6.021776</td>\n",
       "      <td>12.337289</td>\n",
       "      <td>2.145204</td>\n",
       "      <td>2.443522</td>\n",
       "      <td>520.680204</td>\n",
       "      <td>41.642693</td>\n",
       "      <td>3.972040</td>\n",
       "      <td>6.542142</td>\n",
       "      <td>6.886443</td>\n",
       "    </tr>\n",
       "    <tr>\n",
       "      <th>min</th>\n",
       "      <td>-2.000000</td>\n",
       "      <td>86.600000</td>\n",
       "      <td>141.100000</td>\n",
       "      <td>60.300000</td>\n",
       "      <td>47.800000</td>\n",
       "      <td>1488.000000</td>\n",
       "      <td>61.000000</td>\n",
       "      <td>7.000000</td>\n",
       "      <td>13.000000</td>\n",
       "      <td>16.000000</td>\n",
       "    </tr>\n",
       "    <tr>\n",
       "      <th>25%</th>\n",
       "      <td>0.000000</td>\n",
       "      <td>94.500000</td>\n",
       "      <td>166.300000</td>\n",
       "      <td>64.100000</td>\n",
       "      <td>52.000000</td>\n",
       "      <td>2145.000000</td>\n",
       "      <td>97.000000</td>\n",
       "      <td>8.600000</td>\n",
       "      <td>19.000000</td>\n",
       "      <td>25.000000</td>\n",
       "    </tr>\n",
       "    <tr>\n",
       "      <th>50%</th>\n",
       "      <td>1.000000</td>\n",
       "      <td>97.000000</td>\n",
       "      <td>173.200000</td>\n",
       "      <td>65.500000</td>\n",
       "      <td>54.100000</td>\n",
       "      <td>2414.000000</td>\n",
       "      <td>120.000000</td>\n",
       "      <td>9.000000</td>\n",
       "      <td>24.000000</td>\n",
       "      <td>30.000000</td>\n",
       "    </tr>\n",
       "    <tr>\n",
       "      <th>75%</th>\n",
       "      <td>2.000000</td>\n",
       "      <td>102.400000</td>\n",
       "      <td>183.100000</td>\n",
       "      <td>66.900000</td>\n",
       "      <td>55.500000</td>\n",
       "      <td>2935.000000</td>\n",
       "      <td>141.000000</td>\n",
       "      <td>9.400000</td>\n",
       "      <td>30.000000</td>\n",
       "      <td>34.000000</td>\n",
       "    </tr>\n",
       "    <tr>\n",
       "      <th>max</th>\n",
       "      <td>3.000000</td>\n",
       "      <td>120.900000</td>\n",
       "      <td>208.100000</td>\n",
       "      <td>72.300000</td>\n",
       "      <td>59.800000</td>\n",
       "      <td>4066.000000</td>\n",
       "      <td>326.000000</td>\n",
       "      <td>23.000000</td>\n",
       "      <td>49.000000</td>\n",
       "      <td>54.000000</td>\n",
       "    </tr>\n",
       "  </tbody>\n",
       "</table>\n",
       "</div>"
      ],
      "text/plain": [
       "       sysmboling  wheel_base      length       width      height  \\\n",
       "count  205.000000  205.000000  205.000000  205.000000  205.000000   \n",
       "mean     0.834146   98.756585  174.049268   65.907805   53.724878   \n",
       "std      1.245307    6.021776   12.337289    2.145204    2.443522   \n",
       "min     -2.000000   86.600000  141.100000   60.300000   47.800000   \n",
       "25%      0.000000   94.500000  166.300000   64.100000   52.000000   \n",
       "50%      1.000000   97.000000  173.200000   65.500000   54.100000   \n",
       "75%      2.000000  102.400000  183.100000   66.900000   55.500000   \n",
       "max      3.000000  120.900000  208.100000   72.300000   59.800000   \n",
       "\n",
       "       curb-weight  engine-size  compression-ratio    city-mpg  highway-mpg  \n",
       "count   205.000000   205.000000         205.000000  205.000000   205.000000  \n",
       "mean   2555.565854   126.907317          10.142537   25.219512    30.751220  \n",
       "std     520.680204    41.642693           3.972040    6.542142     6.886443  \n",
       "min    1488.000000    61.000000           7.000000   13.000000    16.000000  \n",
       "25%    2145.000000    97.000000           8.600000   19.000000    25.000000  \n",
       "50%    2414.000000   120.000000           9.000000   24.000000    30.000000  \n",
       "75%    2935.000000   141.000000           9.400000   30.000000    34.000000  \n",
       "max    4066.000000   326.000000          23.000000   49.000000    54.000000  "
      ]
     },
     "execution_count": 451,
     "metadata": {},
     "output_type": "execute_result"
    }
   ],
   "source": [
    "import numpy as np\n",
    "\n",
    "# 삭제하는 함수 ( axis = 0 -> 행삭제, axis = 1 -> 열삭제 )\n",
    "# inplace = True -> 결과를 다시 데이터 프레임에 적는 것\n",
    "df.dropna(subset = [\"price\"], axis = 0, inplace = True)\n",
    "df.describe()\n",
    "\n",
    "# 데이터를 대체하는 방법\n",
    "# dataframe.replace(missing_value, new_value)"
   ]
  },
  {
   "cell_type": "markdown",
   "metadata": {},
   "source": [
    "# Data Formatting\n",
    "\n",
    "- 데이터는 대개 다른 장소에서 다른 사람에 의해 다른 형식으로 수집된다.\n",
    "\n",
    "- Data Formatting 은 데이터를 표준으로 가져오는 것을 의미한다.\n",
    "\n",
    "예제에서\n",
    "city-mpg = 갤런 당 마일 단위 자동차의 연료 소비량\n",
    "- 미터단위로 바꾸어야 한다"
   ]
  },
  {
   "cell_type": "code",
   "execution_count": 53,
   "metadata": {},
   "outputs": [
    {
     "data": {
      "text/html": [
       "<div>\n",
       "<style scoped>\n",
       "    .dataframe tbody tr th:only-of-type {\n",
       "        vertical-align: middle;\n",
       "    }\n",
       "\n",
       "    .dataframe tbody tr th {\n",
       "        vertical-align: top;\n",
       "    }\n",
       "\n",
       "    .dataframe thead th {\n",
       "        text-align: right;\n",
       "    }\n",
       "</style>\n",
       "<table border=\"1\" class=\"dataframe\">\n",
       "  <thead>\n",
       "    <tr style=\"text-align: right;\">\n",
       "      <th></th>\n",
       "      <th>sysmboling</th>\n",
       "      <th>wheel_base</th>\n",
       "      <th>length</th>\n",
       "      <th>width</th>\n",
       "      <th>height</th>\n",
       "      <th>curb-weight</th>\n",
       "      <th>engine-size</th>\n",
       "      <th>compression-ratio</th>\n",
       "      <th>city-L/100km</th>\n",
       "      <th>highway-mpg</th>\n",
       "    </tr>\n",
       "  </thead>\n",
       "  <tbody>\n",
       "    <tr>\n",
       "      <th>count</th>\n",
       "      <td>205.000000</td>\n",
       "      <td>205.000000</td>\n",
       "      <td>205.000000</td>\n",
       "      <td>205.000000</td>\n",
       "      <td>205.000000</td>\n",
       "      <td>205.000000</td>\n",
       "      <td>205.000000</td>\n",
       "      <td>205.000000</td>\n",
       "      <td>205.000000</td>\n",
       "      <td>205.000000</td>\n",
       "    </tr>\n",
       "    <tr>\n",
       "      <th>mean</th>\n",
       "      <td>0.834146</td>\n",
       "      <td>98.756585</td>\n",
       "      <td>174.049268</td>\n",
       "      <td>65.907805</td>\n",
       "      <td>53.724878</td>\n",
       "      <td>2555.565854</td>\n",
       "      <td>126.907317</td>\n",
       "      <td>10.142537</td>\n",
       "      <td>9.949525</td>\n",
       "      <td>30.751220</td>\n",
       "    </tr>\n",
       "    <tr>\n",
       "      <th>std</th>\n",
       "      <td>1.245307</td>\n",
       "      <td>6.021776</td>\n",
       "      <td>12.337289</td>\n",
       "      <td>2.145204</td>\n",
       "      <td>2.443522</td>\n",
       "      <td>520.680204</td>\n",
       "      <td>41.642693</td>\n",
       "      <td>3.972040</td>\n",
       "      <td>2.573104</td>\n",
       "      <td>6.886443</td>\n",
       "    </tr>\n",
       "    <tr>\n",
       "      <th>min</th>\n",
       "      <td>-2.000000</td>\n",
       "      <td>86.600000</td>\n",
       "      <td>141.100000</td>\n",
       "      <td>60.300000</td>\n",
       "      <td>47.800000</td>\n",
       "      <td>1488.000000</td>\n",
       "      <td>61.000000</td>\n",
       "      <td>7.000000</td>\n",
       "      <td>4.795918</td>\n",
       "      <td>16.000000</td>\n",
       "    </tr>\n",
       "    <tr>\n",
       "      <th>25%</th>\n",
       "      <td>0.000000</td>\n",
       "      <td>94.500000</td>\n",
       "      <td>166.300000</td>\n",
       "      <td>64.100000</td>\n",
       "      <td>52.000000</td>\n",
       "      <td>2145.000000</td>\n",
       "      <td>97.000000</td>\n",
       "      <td>8.600000</td>\n",
       "      <td>7.833333</td>\n",
       "      <td>25.000000</td>\n",
       "    </tr>\n",
       "    <tr>\n",
       "      <th>50%</th>\n",
       "      <td>1.000000</td>\n",
       "      <td>97.000000</td>\n",
       "      <td>173.200000</td>\n",
       "      <td>65.500000</td>\n",
       "      <td>54.100000</td>\n",
       "      <td>2414.000000</td>\n",
       "      <td>120.000000</td>\n",
       "      <td>9.000000</td>\n",
       "      <td>9.791667</td>\n",
       "      <td>30.000000</td>\n",
       "    </tr>\n",
       "    <tr>\n",
       "      <th>75%</th>\n",
       "      <td>2.000000</td>\n",
       "      <td>102.400000</td>\n",
       "      <td>183.100000</td>\n",
       "      <td>66.900000</td>\n",
       "      <td>55.500000</td>\n",
       "      <td>2935.000000</td>\n",
       "      <td>141.000000</td>\n",
       "      <td>9.400000</td>\n",
       "      <td>12.368421</td>\n",
       "      <td>34.000000</td>\n",
       "    </tr>\n",
       "    <tr>\n",
       "      <th>max</th>\n",
       "      <td>3.000000</td>\n",
       "      <td>120.900000</td>\n",
       "      <td>208.100000</td>\n",
       "      <td>72.300000</td>\n",
       "      <td>59.800000</td>\n",
       "      <td>4066.000000</td>\n",
       "      <td>326.000000</td>\n",
       "      <td>23.000000</td>\n",
       "      <td>18.076923</td>\n",
       "      <td>54.000000</td>\n",
       "    </tr>\n",
       "  </tbody>\n",
       "</table>\n",
       "</div>"
      ],
      "text/plain": [
       "       sysmboling  wheel_base      length       width      height  \\\n",
       "count  205.000000  205.000000  205.000000  205.000000  205.000000   \n",
       "mean     0.834146   98.756585  174.049268   65.907805   53.724878   \n",
       "std      1.245307    6.021776   12.337289    2.145204    2.443522   \n",
       "min     -2.000000   86.600000  141.100000   60.300000   47.800000   \n",
       "25%      0.000000   94.500000  166.300000   64.100000   52.000000   \n",
       "50%      1.000000   97.000000  173.200000   65.500000   54.100000   \n",
       "75%      2.000000  102.400000  183.100000   66.900000   55.500000   \n",
       "max      3.000000  120.900000  208.100000   72.300000   59.800000   \n",
       "\n",
       "       curb-weight  engine-size  compression-ratio  city-L/100km  highway-mpg  \n",
       "count   205.000000   205.000000         205.000000    205.000000   205.000000  \n",
       "mean   2555.565854   126.907317          10.142537      9.949525    30.751220  \n",
       "std     520.680204    41.642693           3.972040      2.573104     6.886443  \n",
       "min    1488.000000    61.000000           7.000000      4.795918    16.000000  \n",
       "25%    2145.000000    97.000000           8.600000      7.833333    25.000000  \n",
       "50%    2414.000000   120.000000           9.000000      9.791667    30.000000  \n",
       "75%    2935.000000   141.000000           9.400000     12.368421    34.000000  \n",
       "max    4066.000000   326.000000          23.000000     18.076923    54.000000  "
      ]
     },
     "execution_count": 53,
     "metadata": {},
     "output_type": "execute_result"
    }
   ],
   "source": [
    "df[\"city-mpg\"] = 235/df[\"city-mpg\"]\n",
    "df.rename(columns={\"city-mpg\" : \"city-L/100km\"}, inplace = True)\n",
    "df.describe()"
   ]
  },
  {
   "cell_type": "markdown",
   "metadata": {},
   "source": [
    "데이터 유형은 여러가지 이유로 잘못 설정되었을 수도 있다."
   ]
  },
  {
   "cell_type": "code",
   "execution_count": 54,
   "metadata": {},
   "outputs": [
    {
     "data": {
      "text/plain": [
       "200    16845\n",
       "201    19045\n",
       "202    21485\n",
       "203    22470\n",
       "204    22625\n",
       "Name: price, dtype: object"
      ]
     },
     "execution_count": 54,
     "metadata": {},
     "output_type": "execute_result"
    }
   ],
   "source": [
    "df[\"price\"].tail(5)"
   ]
  },
  {
   "cell_type": "markdown",
   "metadata": {},
   "source": [
    "- 위의 예제에서 원래는 정수 형태이여야 한다.\n",
    "- 나중에 분석을 수행할 때 해당 데이터 유형을 탐색하고 이를 변환해야 한다.\n",
    "- 올바른 데이터타입이 아니라면 나중에 분석시에 모델이 이상하게 나올수도 있다.\n",
    "\n",
    "Pandas 의 데이터 유형\n",
    "- Objects\n",
    "- Int64\n",
    "- Float64"
   ]
  },
  {
   "cell_type": "code",
   "execution_count": 55,
   "metadata": {},
   "outputs": [
    {
     "data": {
      "text/plain": [
       "sysmboling             int64\n",
       "normalized-losses     object\n",
       "make                  object\n",
       "fuel-type             object\n",
       "aspiration            object\n",
       "num-of-doors          object\n",
       "body-style            object\n",
       "drive-wheels          object\n",
       "engine-location       object\n",
       "wheel_base           float64\n",
       "length               float64\n",
       "width                float64\n",
       "height               float64\n",
       "curb-weight            int64\n",
       "engine-type           object\n",
       "num-of-cylinders      object\n",
       "engine-size            int64\n",
       "fuel-system           object\n",
       "bore                  object\n",
       "stroke                object\n",
       "compression-ratio    float64\n",
       "horsepower            object\n",
       "peak-rpm              object\n",
       "city-L/100km         float64\n",
       "highway-mpg            int64\n",
       "price                 object\n",
       "dtype: object"
      ]
     },
     "execution_count": 55,
     "metadata": {},
     "output_type": "execute_result"
    }
   ],
   "source": [
    "# 데이터 프레임의 데이터 유형 판별\n",
    "df.dtypes"
   ]
  },
  {
   "cell_type": "code",
   "execution_count": 7,
   "metadata": {},
   "outputs": [
    {
     "data": {
      "text/plain": [
       "sysmboling             int64\n",
       "normalized-losses     object\n",
       "make                  object\n",
       "fuel-type             object\n",
       "aspiration            object\n",
       "num-of-doors          object\n",
       "body-style            object\n",
       "drive-wheels          object\n",
       "engine-location       object\n",
       "wheel_base           float64\n",
       "length               float64\n",
       "width                float64\n",
       "height               float64\n",
       "curb-weight            int64\n",
       "engine-type           object\n",
       "num-of-cylinders      object\n",
       "engine-size            int64\n",
       "fuel-system           object\n",
       "bore                  object\n",
       "stroke                object\n",
       "compression-ratio    float64\n",
       "horsepower            object\n",
       "peak-rpm              object\n",
       "city-mpg               int64\n",
       "highway-mpg            int64\n",
       "price                  int32\n",
       "dtype: object"
      ]
     },
     "execution_count": 7,
     "metadata": {},
     "output_type": "execute_result"
    }
   ],
   "source": [
    "# 데이터 유형 변경\n",
    "# NaN 값 등이 있으면 코드가 안먹는다 !\n",
    "df[\"price\"] = df[\"price\"].replace(\"?\", 0)\n",
    "df[\"price\"]\n",
    "df[\"price\"] = df[\"price\"].astype('int')\n",
    "df.dtypes"
   ]
  },
  {
   "cell_type": "markdown",
   "metadata": {},
   "source": [
    "# Data Normalization"
   ]
  },
  {
   "cell_type": "markdown",
   "metadata": {},
   "source": [
    "- data set 값의 범위가 일관되도록 변수를 정규화 한다.\n",
    "- 이를 통해 일부 통계 분석을 쉽게 수행 할 수 있다.\n",
    "    변수들 사이의 범위를 일관되게 함으로써 공정한 비교를 가능하게 한다."
   ]
  },
  {
   "cell_type": "markdown",
   "metadata": {},
   "source": [
    "# Methods of normalizing data"
   ]
  },
  {
   "cell_type": "markdown",
   "metadata": {},
   "source": [
    "# 3가지 방법\n",
    "1. Simple Feature scaling\n",
    "    - x(new) = x(old) / x(max)\n",
    "        - 새 값의 범위는 0 ~ 1 사이가 된다.\n",
    "2. Min-Max\n",
    "    - x(new) = { x(old) - x(min) } / { x(max) - x(min) }\n",
    "    \n",
    "3. Z-score\n",
    "    - x(new) = { x(old) - 평균 } / 표준편차\n",
    "        - 결과 값은 0주위, 일반적으로 -3 ~ +3 사이의 범위"
   ]
  },
  {
   "cell_type": "code",
   "execution_count": 69,
   "metadata": {},
   "outputs": [
    {
     "data": {
      "text/plain": [
       "0      0.811148\n",
       "1      0.811148\n",
       "2      0.822681\n",
       "3      0.848630\n",
       "4      0.848630\n",
       "5      0.851994\n",
       "6      0.925997\n",
       "7      0.925997\n",
       "8      0.925997\n",
       "9      0.856319\n",
       "10     0.849592\n",
       "11     0.849592\n",
       "12     0.849592\n",
       "13     0.849592\n",
       "14     0.908217\n",
       "15     0.908217\n",
       "16     0.931283\n",
       "17     0.946660\n",
       "18     0.678039\n",
       "19     0.749159\n",
       "20     0.763095\n",
       "21     0.755887\n",
       "22     0.755887\n",
       "23     0.755887\n",
       "24     0.755887\n",
       "25     0.755887\n",
       "26     0.755887\n",
       "27     0.755887\n",
       "28     0.839020\n",
       "29     0.832292\n",
       "         ...   \n",
       "175    0.843825\n",
       "176    0.843825\n",
       "177    0.843825\n",
       "178    0.881788\n",
       "179    0.881788\n",
       "180    0.902451\n",
       "181    0.902451\n",
       "182    0.825084\n",
       "183    0.825084\n",
       "184    0.825084\n",
       "185    0.825084\n",
       "186    0.825084\n",
       "187    0.825084\n",
       "188    0.825084\n",
       "189    0.765497\n",
       "190    0.796252\n",
       "191    0.865930\n",
       "192    0.865930\n",
       "193    0.879865\n",
       "194    0.907256\n",
       "195    0.907256\n",
       "196    0.907256\n",
       "197    0.907256\n",
       "198    0.907256\n",
       "199    0.907256\n",
       "200    0.907256\n",
       "201    0.907256\n",
       "202    0.907256\n",
       "203    0.907256\n",
       "204    0.907256\n",
       "Name: length, Length: 205, dtype: float64"
      ]
     },
     "execution_count": 69,
     "metadata": {},
     "output_type": "execute_result"
    }
   ],
   "source": [
    "# Simple Feature scaling\n",
    "df[\"length\"] = df[\"length\"] / df[\"length\"].max()\n",
    "df[\"length\"]"
   ]
  },
  {
   "cell_type": "code",
   "execution_count": 74,
   "metadata": {},
   "outputs": [
    {
     "data": {
      "text/plain": [
       "0      0.413433\n",
       "1      0.413433\n",
       "2      0.449254\n",
       "3      0.529851\n",
       "4      0.529851\n",
       "5      0.540299\n",
       "6      0.770149\n",
       "7      0.770149\n",
       "8      0.770149\n",
       "9      0.553731\n",
       "10     0.532836\n",
       "11     0.532836\n",
       "12     0.532836\n",
       "13     0.532836\n",
       "14     0.714925\n",
       "15     0.714925\n",
       "16     0.786567\n",
       "17     0.834328\n",
       "18     0.000000\n",
       "19     0.220896\n",
       "20     0.264179\n",
       "21     0.241791\n",
       "22     0.241791\n",
       "23     0.241791\n",
       "24     0.241791\n",
       "25     0.241791\n",
       "26     0.241791\n",
       "27     0.241791\n",
       "28     0.500000\n",
       "29     0.479104\n",
       "         ...   \n",
       "175    0.514925\n",
       "176    0.514925\n",
       "177    0.514925\n",
       "178    0.632836\n",
       "179    0.632836\n",
       "180    0.697015\n",
       "181    0.697015\n",
       "182    0.456716\n",
       "183    0.456716\n",
       "184    0.456716\n",
       "185    0.456716\n",
       "186    0.456716\n",
       "187    0.456716\n",
       "188    0.456716\n",
       "189    0.271642\n",
       "190    0.367164\n",
       "191    0.583582\n",
       "192    0.583582\n",
       "193    0.626866\n",
       "194    0.711940\n",
       "195    0.711940\n",
       "196    0.711940\n",
       "197    0.711940\n",
       "198    0.711940\n",
       "199    0.711940\n",
       "200    0.711940\n",
       "201    0.711940\n",
       "202    0.711940\n",
       "203    0.711940\n",
       "204    0.711940\n",
       "Name: length, Length: 205, dtype: float64"
      ]
     },
     "execution_count": 74,
     "metadata": {},
     "output_type": "execute_result"
    }
   ],
   "source": [
    "# Min-Max\n",
    "df[\"length\"] = (df[\"length\"] - df[\"length\"].min()) / (df[\"length\"].max()\n",
    "                                                      - df[\"length\"].min())\n",
    "df[\"length\"]"
   ]
  },
  {
   "cell_type": "code",
   "execution_count": 76,
   "metadata": {},
   "outputs": [
    {
     "data": {
      "text/plain": [
       "0     -0.425480\n",
       "1     -0.425480\n",
       "2     -0.230948\n",
       "3      0.206750\n",
       "4      0.206750\n",
       "5      0.263488\n",
       "6      1.511737\n",
       "7      1.511737\n",
       "8      1.511737\n",
       "9      0.336438\n",
       "10     0.222961\n",
       "11     0.222961\n",
       "12     0.222961\n",
       "13     0.222961\n",
       "14     1.211833\n",
       "15     1.211833\n",
       "16     1.600897\n",
       "17     1.860274\n",
       "18    -2.670706\n",
       "19    -1.471091\n",
       "20    -1.236031\n",
       "21    -1.357613\n",
       "22    -1.357613\n",
       "23    -1.357613\n",
       "24    -1.357613\n",
       "25    -1.357613\n",
       "26    -1.357613\n",
       "27    -1.357613\n",
       "28     0.044640\n",
       "29    -0.068838\n",
       "         ...   \n",
       "175    0.125695\n",
       "176    0.125695\n",
       "177    0.125695\n",
       "178    0.766030\n",
       "179    0.766030\n",
       "180    1.114567\n",
       "181    1.114567\n",
       "182   -0.190420\n",
       "183   -0.190420\n",
       "184   -0.190420\n",
       "185   -0.190420\n",
       "186   -0.190420\n",
       "187   -0.190420\n",
       "188   -0.190420\n",
       "189   -1.195503\n",
       "190   -0.676751\n",
       "191    0.498548\n",
       "192    0.498548\n",
       "193    0.733608\n",
       "194    1.195622\n",
       "195    1.195622\n",
       "196    1.195622\n",
       "197    1.195622\n",
       "198    1.195622\n",
       "199    1.195622\n",
       "200    1.195622\n",
       "201    1.195622\n",
       "202    1.195622\n",
       "203    1.195622\n",
       "204    1.195622\n",
       "Name: length, Length: 205, dtype: float64"
      ]
     },
     "execution_count": 76,
     "metadata": {},
     "output_type": "execute_result"
    }
   ],
   "source": [
    "# Z-score\n",
    "df[\"length\"] = (df[\"length\"]-df[\"length\"].mean())/df[\"length\"].std()\n",
    "df[\"length\"]"
   ]
  },
  {
   "cell_type": "markdown",
   "metadata": {},
   "source": [
    "# Binning"
   ]
  },
  {
   "cell_type": "markdown",
   "metadata": {},
   "source": [
    " - 값을 묶음으로 그룹화 하는 것\n",
    "    - ex) \"age\", \"[0 to 5]\", \"[6 to 10]\" etc\n",
    " - 예측 모델의 정확성을 향상 시킬수 있다.\n",
    " - 데이터 분배를 더 잘 이해할 수 있는 더 작은 수의 저장소"
   ]
  },
  {
   "cell_type": "markdown",
   "metadata": {},
   "source": [
    "- 위의 예시 중 price 는 5,000 ~ 45,500 사이의 속성 범위이다.\n",
    "- Binning 을 사용하여 가격을 동일한 4개의 간격 숫자로 나눈다"
   ]
  },
  {
   "cell_type": "code",
   "execution_count": 92,
   "metadata": {},
   "outputs": [
    {
     "data": {
      "image/png": "[encoded data removed]",
      "text/plain": [
       "<Figure size 432x288 with 1 Axes>"
      ]
     },
     "metadata": {
      "needs_background": "light"
     },
     "output_type": "display_data"
    },
    {
     "data": {
      "text/plain": [
       "0         Low\n",
       "1      Medium\n",
       "2      Medium\n",
       "3         Low\n",
       "4      Medium\n",
       "5      Medium\n",
       "6      Medium\n",
       "7      Medium\n",
       "8      Medium\n",
       "9         Low\n",
       "10     Medium\n",
       "11     Medium\n",
       "12     Medium\n",
       "13     Medium\n",
       "14     Medium\n",
       "15       High\n",
       "16       High\n",
       "17       High\n",
       "18        Low\n",
       "19        Low\n",
       "20        Low\n",
       "21        Low\n",
       "22        Low\n",
       "23        Low\n",
       "24        Low\n",
       "25        Low\n",
       "26        Low\n",
       "27        Low\n",
       "28        Low\n",
       "29        Low\n",
       "        ...  \n",
       "175       Low\n",
       "176       Low\n",
       "177       Low\n",
       "178    Medium\n",
       "179    Medium\n",
       "180    Medium\n",
       "181    Medium\n",
       "182       Low\n",
       "183       Low\n",
       "184       Low\n",
       "185       Low\n",
       "186       Low\n",
       "187       Low\n",
       "188       Low\n",
       "189       Low\n",
       "190       Low\n",
       "191       Low\n",
       "192       Low\n",
       "193       Low\n",
       "194       Low\n",
       "195       Low\n",
       "196    Medium\n",
       "197    Medium\n",
       "198    Medium\n",
       "199    Medium\n",
       "200    Medium\n",
       "201    Medium\n",
       "202    Medium\n",
       "203    Medium\n",
       "204    Medium\n",
       "Name: price-binned, Length: 205, dtype: category\n",
       "Categories (3, object): [Low < Medium < High]"
      ]
     },
     "execution_count": 92,
     "metadata": {},
     "output_type": "execute_result"
    }
   ],
   "source": [
    "import matplotlib.pyplot as plt\n",
    "\n",
    "# 4개 간격으로 Binning\n",
    "bins = np.linspace(min(df[\"price\"]), max(df[\"price\"]), 4)\n",
    "\n",
    "# 각 그룹 이름 지정\n",
    "group_names = [\"Low\", \"Medium\", \"High\"]\n",
    "\n",
    "# cut 을 이용하여 데이터 값을 분류하고 bins 로 분류한다.\n",
    "df[\"price-binned\"] = pd.cut(df[\"price\"], bins, labels = group_names, include_lowest = True)\n",
    "\n",
    "plt.hist(df[\"price\"])\n",
    "plt.title(\"price\")\n",
    "plt.show()\n",
    "\n",
    "df[\"price-binned\"]"
   ]
  },
  {
   "cell_type": "markdown",
   "metadata": {},
   "source": [
    "# Turning categorical variables into quantitative varivbles\n",
    "## ( 범주형 변수를 양적 변수로 변환 )"
   ]
  },
  {
   "cell_type": "markdown",
   "metadata": {},
   "source": [
    "- 대부분의 통계 모델은 객체 또는 문자열을 입력으로 사용할 수 없다.\n",
    "- 모델 훈련의 경우, 숫자만 입력으로 받아드린다."
   ]
  },
  {
   "cell_type": "markdown",
   "metadata": {},
   "source": [
    "- 위의 예시 중 \"fuel-type\" 기능에는 \"gas\", \"diesel\" 의 2가지 문자열 값이 있다.\n",
    "- 추가 분석을 위에서는 변수를 숫자 형식으로 변환해야 한다.\n",
    "    - ex ) gas = 1, diesel = 0 의 값을 준다"
   ]
  },
  {
   "cell_type": "code",
   "execution_count": 95,
   "metadata": {},
   "outputs": [
    {
     "data": {
      "text/html": [
       "<div>\n",
       "<style scoped>\n",
       "    .dataframe tbody tr th:only-of-type {\n",
       "        vertical-align: middle;\n",
       "    }\n",
       "\n",
       "    .dataframe tbody tr th {\n",
       "        vertical-align: top;\n",
       "    }\n",
       "\n",
       "    .dataframe thead th {\n",
       "        text-align: right;\n",
       "    }\n",
       "</style>\n",
       "<table border=\"1\" class=\"dataframe\">\n",
       "  <thead>\n",
       "    <tr style=\"text-align: right;\">\n",
       "      <th></th>\n",
       "      <th>diesel</th>\n",
       "      <th>gas</th>\n",
       "    </tr>\n",
       "  </thead>\n",
       "  <tbody>\n",
       "    <tr>\n",
       "      <th>0</th>\n",
       "      <td>0</td>\n",
       "      <td>1</td>\n",
       "    </tr>\n",
       "    <tr>\n",
       "      <th>1</th>\n",
       "      <td>0</td>\n",
       "      <td>1</td>\n",
       "    </tr>\n",
       "    <tr>\n",
       "      <th>2</th>\n",
       "      <td>0</td>\n",
       "      <td>1</td>\n",
       "    </tr>\n",
       "    <tr>\n",
       "      <th>3</th>\n",
       "      <td>0</td>\n",
       "      <td>1</td>\n",
       "    </tr>\n",
       "    <tr>\n",
       "      <th>4</th>\n",
       "      <td>0</td>\n",
       "      <td>1</td>\n",
       "    </tr>\n",
       "    <tr>\n",
       "      <th>5</th>\n",
       "      <td>0</td>\n",
       "      <td>1</td>\n",
       "    </tr>\n",
       "    <tr>\n",
       "      <th>6</th>\n",
       "      <td>0</td>\n",
       "      <td>1</td>\n",
       "    </tr>\n",
       "    <tr>\n",
       "      <th>7</th>\n",
       "      <td>0</td>\n",
       "      <td>1</td>\n",
       "    </tr>\n",
       "    <tr>\n",
       "      <th>8</th>\n",
       "      <td>0</td>\n",
       "      <td>1</td>\n",
       "    </tr>\n",
       "    <tr>\n",
       "      <th>9</th>\n",
       "      <td>0</td>\n",
       "      <td>1</td>\n",
       "    </tr>\n",
       "    <tr>\n",
       "      <th>10</th>\n",
       "      <td>0</td>\n",
       "      <td>1</td>\n",
       "    </tr>\n",
       "    <tr>\n",
       "      <th>11</th>\n",
       "      <td>0</td>\n",
       "      <td>1</td>\n",
       "    </tr>\n",
       "    <tr>\n",
       "      <th>12</th>\n",
       "      <td>0</td>\n",
       "      <td>1</td>\n",
       "    </tr>\n",
       "    <tr>\n",
       "      <th>13</th>\n",
       "      <td>0</td>\n",
       "      <td>1</td>\n",
       "    </tr>\n",
       "    <tr>\n",
       "      <th>14</th>\n",
       "      <td>0</td>\n",
       "      <td>1</td>\n",
       "    </tr>\n",
       "    <tr>\n",
       "      <th>15</th>\n",
       "      <td>0</td>\n",
       "      <td>1</td>\n",
       "    </tr>\n",
       "    <tr>\n",
       "      <th>16</th>\n",
       "      <td>0</td>\n",
       "      <td>1</td>\n",
       "    </tr>\n",
       "    <tr>\n",
       "      <th>17</th>\n",
       "      <td>0</td>\n",
       "      <td>1</td>\n",
       "    </tr>\n",
       "    <tr>\n",
       "      <th>18</th>\n",
       "      <td>0</td>\n",
       "      <td>1</td>\n",
       "    </tr>\n",
       "    <tr>\n",
       "      <th>19</th>\n",
       "      <td>0</td>\n",
       "      <td>1</td>\n",
       "    </tr>\n",
       "    <tr>\n",
       "      <th>20</th>\n",
       "      <td>0</td>\n",
       "      <td>1</td>\n",
       "    </tr>\n",
       "    <tr>\n",
       "      <th>21</th>\n",
       "      <td>0</td>\n",
       "      <td>1</td>\n",
       "    </tr>\n",
       "    <tr>\n",
       "      <th>22</th>\n",
       "      <td>0</td>\n",
       "      <td>1</td>\n",
       "    </tr>\n",
       "    <tr>\n",
       "      <th>23</th>\n",
       "      <td>0</td>\n",
       "      <td>1</td>\n",
       "    </tr>\n",
       "    <tr>\n",
       "      <th>24</th>\n",
       "      <td>0</td>\n",
       "      <td>1</td>\n",
       "    </tr>\n",
       "    <tr>\n",
       "      <th>25</th>\n",
       "      <td>0</td>\n",
       "      <td>1</td>\n",
       "    </tr>\n",
       "    <tr>\n",
       "      <th>26</th>\n",
       "      <td>0</td>\n",
       "      <td>1</td>\n",
       "    </tr>\n",
       "    <tr>\n",
       "      <th>27</th>\n",
       "      <td>0</td>\n",
       "      <td>1</td>\n",
       "    </tr>\n",
       "    <tr>\n",
       "      <th>28</th>\n",
       "      <td>0</td>\n",
       "      <td>1</td>\n",
       "    </tr>\n",
       "    <tr>\n",
       "      <th>29</th>\n",
       "      <td>0</td>\n",
       "      <td>1</td>\n",
       "    </tr>\n",
       "    <tr>\n",
       "      <th>...</th>\n",
       "      <td>...</td>\n",
       "      <td>...</td>\n",
       "    </tr>\n",
       "    <tr>\n",
       "      <th>175</th>\n",
       "      <td>0</td>\n",
       "      <td>1</td>\n",
       "    </tr>\n",
       "    <tr>\n",
       "      <th>176</th>\n",
       "      <td>0</td>\n",
       "      <td>1</td>\n",
       "    </tr>\n",
       "    <tr>\n",
       "      <th>177</th>\n",
       "      <td>0</td>\n",
       "      <td>1</td>\n",
       "    </tr>\n",
       "    <tr>\n",
       "      <th>178</th>\n",
       "      <td>0</td>\n",
       "      <td>1</td>\n",
       "    </tr>\n",
       "    <tr>\n",
       "      <th>179</th>\n",
       "      <td>0</td>\n",
       "      <td>1</td>\n",
       "    </tr>\n",
       "    <tr>\n",
       "      <th>180</th>\n",
       "      <td>0</td>\n",
       "      <td>1</td>\n",
       "    </tr>\n",
       "    <tr>\n",
       "      <th>181</th>\n",
       "      <td>0</td>\n",
       "      <td>1</td>\n",
       "    </tr>\n",
       "    <tr>\n",
       "      <th>182</th>\n",
       "      <td>1</td>\n",
       "      <td>0</td>\n",
       "    </tr>\n",
       "    <tr>\n",
       "      <th>183</th>\n",
       "      <td>0</td>\n",
       "      <td>1</td>\n",
       "    </tr>\n",
       "    <tr>\n",
       "      <th>184</th>\n",
       "      <td>1</td>\n",
       "      <td>0</td>\n",
       "    </tr>\n",
       "    <tr>\n",
       "      <th>185</th>\n",
       "      <td>0</td>\n",
       "      <td>1</td>\n",
       "    </tr>\n",
       "    <tr>\n",
       "      <th>186</th>\n",
       "      <td>0</td>\n",
       "      <td>1</td>\n",
       "    </tr>\n",
       "    <tr>\n",
       "      <th>187</th>\n",
       "      <td>1</td>\n",
       "      <td>0</td>\n",
       "    </tr>\n",
       "    <tr>\n",
       "      <th>188</th>\n",
       "      <td>0</td>\n",
       "      <td>1</td>\n",
       "    </tr>\n",
       "    <tr>\n",
       "      <th>189</th>\n",
       "      <td>0</td>\n",
       "      <td>1</td>\n",
       "    </tr>\n",
       "    <tr>\n",
       "      <th>190</th>\n",
       "      <td>0</td>\n",
       "      <td>1</td>\n",
       "    </tr>\n",
       "    <tr>\n",
       "      <th>191</th>\n",
       "      <td>0</td>\n",
       "      <td>1</td>\n",
       "    </tr>\n",
       "    <tr>\n",
       "      <th>192</th>\n",
       "      <td>1</td>\n",
       "      <td>0</td>\n",
       "    </tr>\n",
       "    <tr>\n",
       "      <th>193</th>\n",
       "      <td>0</td>\n",
       "      <td>1</td>\n",
       "    </tr>\n",
       "    <tr>\n",
       "      <th>194</th>\n",
       "      <td>0</td>\n",
       "      <td>1</td>\n",
       "    </tr>\n",
       "    <tr>\n",
       "      <th>195</th>\n",
       "      <td>0</td>\n",
       "      <td>1</td>\n",
       "    </tr>\n",
       "    <tr>\n",
       "      <th>196</th>\n",
       "      <td>0</td>\n",
       "      <td>1</td>\n",
       "    </tr>\n",
       "    <tr>\n",
       "      <th>197</th>\n",
       "      <td>0</td>\n",
       "      <td>1</td>\n",
       "    </tr>\n",
       "    <tr>\n",
       "      <th>198</th>\n",
       "      <td>0</td>\n",
       "      <td>1</td>\n",
       "    </tr>\n",
       "    <tr>\n",
       "      <th>199</th>\n",
       "      <td>0</td>\n",
       "      <td>1</td>\n",
       "    </tr>\n",
       "    <tr>\n",
       "      <th>200</th>\n",
       "      <td>0</td>\n",
       "      <td>1</td>\n",
       "    </tr>\n",
       "    <tr>\n",
       "      <th>201</th>\n",
       "      <td>0</td>\n",
       "      <td>1</td>\n",
       "    </tr>\n",
       "    <tr>\n",
       "      <th>202</th>\n",
       "      <td>0</td>\n",
       "      <td>1</td>\n",
       "    </tr>\n",
       "    <tr>\n",
       "      <th>203</th>\n",
       "      <td>1</td>\n",
       "      <td>0</td>\n",
       "    </tr>\n",
       "    <tr>\n",
       "      <th>204</th>\n",
       "      <td>0</td>\n",
       "      <td>1</td>\n",
       "    </tr>\n",
       "  </tbody>\n",
       "</table>\n",
       "<p>205 rows × 2 columns</p>\n",
       "</div>"
      ],
      "text/plain": [
       "     diesel  gas\n",
       "0         0    1\n",
       "1         0    1\n",
       "2         0    1\n",
       "3         0    1\n",
       "4         0    1\n",
       "5         0    1\n",
       "6         0    1\n",
       "7         0    1\n",
       "8         0    1\n",
       "9         0    1\n",
       "10        0    1\n",
       "11        0    1\n",
       "12        0    1\n",
       "13        0    1\n",
       "14        0    1\n",
       "15        0    1\n",
       "16        0    1\n",
       "17        0    1\n",
       "18        0    1\n",
       "19        0    1\n",
       "20        0    1\n",
       "21        0    1\n",
       "22        0    1\n",
       "23        0    1\n",
       "24        0    1\n",
       "25        0    1\n",
       "26        0    1\n",
       "27        0    1\n",
       "28        0    1\n",
       "29        0    1\n",
       "..      ...  ...\n",
       "175       0    1\n",
       "176       0    1\n",
       "177       0    1\n",
       "178       0    1\n",
       "179       0    1\n",
       "180       0    1\n",
       "181       0    1\n",
       "182       1    0\n",
       "183       0    1\n",
       "184       1    0\n",
       "185       0    1\n",
       "186       0    1\n",
       "187       1    0\n",
       "188       0    1\n",
       "189       0    1\n",
       "190       0    1\n",
       "191       0    1\n",
       "192       1    0\n",
       "193       0    1\n",
       "194       0    1\n",
       "195       0    1\n",
       "196       0    1\n",
       "197       0    1\n",
       "198       0    1\n",
       "199       0    1\n",
       "200       0    1\n",
       "201       0    1\n",
       "202       0    1\n",
       "203       1    0\n",
       "204       0    1\n",
       "\n",
       "[205 rows x 2 columns]"
      ]
     },
     "execution_count": 95,
     "metadata": {},
     "output_type": "execute_result"
    }
   ],
   "source": [
    "# 자동으로 변수의 특정 카테고리로 숫자 목록을 생성한다.\n",
    "pd.get_dummies(df['fuel-type'])"
   ]
  },
  {
   "cell_type": "markdown",
   "metadata": {},
   "source": [
    "# Exploratory Data Analysis ( EDA )\n",
    "    - 데이터 탐색적 분석"
   ]
  },
  {
   "cell_type": "markdown",
   "metadata": {},
   "source": [
    "1. 데이터의 주요 특성 요약\n",
    "2. 데이터 집합에 대한 더 나은 이해\n",
    "3. 서로 다른 변수간의 관계\n",
    "4. 해결하고자 하는 문제에 대한 중요한 변수 추출"
   ]
  },
  {
   "cell_type": "markdown",
   "metadata": {},
   "source": [
    "- 배워 나갈 것들\n",
    "    1. Descriptive Statistics\n",
    "        - data set의 기능을 분석, 샘플에 대한 간단한 요약\n",
    "    2. Group by\n",
    "        - data를 그룹화 하고 집합을 변환하는 방법\n",
    "    3. ANOVA\n",
    "        - 분산 분석, 별개의 구성요소로 나뉜 샘플을 분석하는 통계적 방법\n",
    "    4. Correlation\n",
    "        - 다른 변수 간의 상관 관계\n",
    "    5. Correlation - Statistics\n",
    "        - Pearson Correlation , Correlation Heatmaps"
   ]
  },
  {
   "cell_type": "markdown",
   "metadata": {},
   "source": [
    "# Descriptive statistics"
   ]
  },
  {
   "cell_type": "markdown",
   "metadata": {},
   "source": [
    "- 데이터 분석을 할 때는, 시작하기 전에 탐색을 먼저 해야한다\n",
    "- 복잡한 모델을 구축하기 위해서는 설명적인 통계 분석이 도움이 된다.\n",
    "- Pandas 의 describe() 함수는 자동으로 기본 통계를 계산한다"
   ]
  },
  {
   "cell_type": "code",
   "execution_count": 29,
   "metadata": {},
   "outputs": [
    {
     "data": {
      "text/plain": [
       "fwd    120\n",
       "rwd     76\n",
       "4wd      9\n",
       "Name: drive-wheels, dtype: int64"
      ]
     },
     "execution_count": 29,
     "metadata": {},
     "output_type": "execute_result"
    }
   ],
   "source": [
    "drive_wheels_counts = df[\"drive-wheels\"].value_counts()\n",
    "drive_wheels_counts"
   ]
  },
  {
   "cell_type": "markdown",
   "metadata": {},
   "source": [
    " - Box Plots\n",
    "        - 데이터의 분포를 시각화 가능\n",
    "        - 중앙값, Upper Quartile, Lower Quartile 을 보여준다\n",
    "        - 아웃라이어를 쉽게 발견할 수 있따.\n",
    "        - 데이터의 분포와 왜도(비대칭도)를 볼 수 있다.\n",
    "        - 그룹간의 비교가 쉽다"
   ]
  },
  {
   "cell_type": "code",
   "execution_count": 47,
   "metadata": {},
   "outputs": [
    {
     "data": {
      "text/plain": [
       "<matplotlib.axes._subplots.AxesSubplot at 0xff98a50>"
      ]
     },
     "execution_count": 47,
     "metadata": {},
     "output_type": "execute_result"
    },
    {
     "data": {
      "image/png": "[encoded data removed]",
      "text/plain": [
       "<Figure size 432x288 with 1 Axes>"
      ]
     },
     "metadata": {
      "needs_background": "light"
     },
     "output_type": "display_data"
    }
   ],
   "source": [
    "import matplotlib.pyplot as plt\n",
    "\n",
    "df.boxplot(\"price\", \"drive-wheels\")"
   ]
  },
  {
   "cell_type": "markdown",
   "metadata": {},
   "source": [
    " - Scatter Plot\n",
    "    - 산포도, 산점도로 두 변수 사이의 관계를 보여줌\n",
    "    - 위의 예제에서 \"engine size\" 와 \"price\" 의 관계\n",
    "    - 예측 변수 x-axis : \"engine size\", 타켓 변수 y-axis : \"price\""
   ]
  },
  {
   "cell_type": "code",
   "execution_count": 45,
   "metadata": {},
   "outputs": [
    {
     "data": {
      "text/plain": [
       "<matplotlib.collections.PathCollection at 0xe853270>"
      ]
     },
     "execution_count": 45,
     "metadata": {},
     "output_type": "execute_result"
    },
    {
     "data": {
      "image/png": "[encoded data removed]",
      "text/plain": [
       "<Figure size 432x288 with 1 Axes>"
      ]
     },
     "metadata": {
      "needs_background": "light"
     },
     "output_type": "display_data"
    }
   ],
   "source": [
    "y = df[\"engine-size\"]\n",
    "x = df[\"price\"]\n",
    "plt.title(\"Scatterplot of Engine Size vs Price\")\n",
    "plt.xlabel(\"Engine Size\")\n",
    "plt.ylabel(\"Price\")\n",
    "plt.scatter(x,y)"
   ]
  },
  {
   "cell_type": "markdown",
   "metadata": {},
   "source": [
    "엔진 크기가 올라감에 따라 자동차 가격도 올라간다!\n",
    "    - 두 사이에 선형 관계에 있음을 알 수 있다."
   ]
  },
  {
   "cell_type": "markdown",
   "metadata": {},
   "source": [
    "# Group By"
   ]
  },
  {
   "cell_type": "markdown",
   "metadata": {},
   "source": [
    "위의 예제에서\n",
    "    - 다른 \"drive system\" 에 따른 \"price\" 를 알고싶다.\n",
    "\n",
    " * Pandas\n",
    "    - dataframe.groupby()"
   ]
  },
  {
   "cell_type": "code",
   "execution_count": 321,
   "metadata": {},
   "outputs": [
    {
     "data": {
      "text/html": [
       "<div>\n",
       "<style scoped>\n",
       "    .dataframe tbody tr th:only-of-type {\n",
       "        vertical-align: middle;\n",
       "    }\n",
       "\n",
       "    .dataframe tbody tr th {\n",
       "        vertical-align: top;\n",
       "    }\n",
       "\n",
       "    .dataframe thead th {\n",
       "        text-align: right;\n",
       "    }\n",
       "</style>\n",
       "<table border=\"1\" class=\"dataframe\">\n",
       "  <thead>\n",
       "    <tr style=\"text-align: right;\">\n",
       "      <th></th>\n",
       "      <th>drive-wheels</th>\n",
       "      <th>body-style</th>\n",
       "      <th>price</th>\n",
       "    </tr>\n",
       "  </thead>\n",
       "  <tbody>\n",
       "    <tr>\n",
       "      <th>0</th>\n",
       "      <td>4wd</td>\n",
       "      <td>hatchback</td>\n",
       "      <td>3801.500000</td>\n",
       "    </tr>\n",
       "    <tr>\n",
       "      <th>1</th>\n",
       "      <td>4wd</td>\n",
       "      <td>sedan</td>\n",
       "      <td>12647.333333</td>\n",
       "    </tr>\n",
       "    <tr>\n",
       "      <th>2</th>\n",
       "      <td>4wd</td>\n",
       "      <td>wagon</td>\n",
       "      <td>9095.750000</td>\n",
       "    </tr>\n",
       "    <tr>\n",
       "      <th>3</th>\n",
       "      <td>fwd</td>\n",
       "      <td>convertible</td>\n",
       "      <td>11595.000000</td>\n",
       "    </tr>\n",
       "    <tr>\n",
       "      <th>4</th>\n",
       "      <td>fwd</td>\n",
       "      <td>hardtop</td>\n",
       "      <td>8249.000000</td>\n",
       "    </tr>\n",
       "    <tr>\n",
       "      <th>5</th>\n",
       "      <td>fwd</td>\n",
       "      <td>hatchback</td>\n",
       "      <td>8396.387755</td>\n",
       "    </tr>\n",
       "    <tr>\n",
       "      <th>6</th>\n",
       "      <td>fwd</td>\n",
       "      <td>sedan</td>\n",
       "      <td>9467.526316</td>\n",
       "    </tr>\n",
       "    <tr>\n",
       "      <th>7</th>\n",
       "      <td>fwd</td>\n",
       "      <td>wagon</td>\n",
       "      <td>9997.333333</td>\n",
       "    </tr>\n",
       "    <tr>\n",
       "      <th>8</th>\n",
       "      <td>rwd</td>\n",
       "      <td>convertible</td>\n",
       "      <td>23949.600000</td>\n",
       "    </tr>\n",
       "    <tr>\n",
       "      <th>9</th>\n",
       "      <td>rwd</td>\n",
       "      <td>hardtop</td>\n",
       "      <td>24202.714286</td>\n",
       "    </tr>\n",
       "    <tr>\n",
       "      <th>10</th>\n",
       "      <td>rwd</td>\n",
       "      <td>hatchback</td>\n",
       "      <td>13583.157895</td>\n",
       "    </tr>\n",
       "    <tr>\n",
       "      <th>11</th>\n",
       "      <td>rwd</td>\n",
       "      <td>sedan</td>\n",
       "      <td>21711.833333</td>\n",
       "    </tr>\n",
       "    <tr>\n",
       "      <th>12</th>\n",
       "      <td>rwd</td>\n",
       "      <td>wagon</td>\n",
       "      <td>16994.222222</td>\n",
       "    </tr>\n",
       "  </tbody>\n",
       "</table>\n",
       "</div>"
      ],
      "text/plain": [
       "   drive-wheels   body-style         price\n",
       "0           4wd    hatchback   3801.500000\n",
       "1           4wd        sedan  12647.333333\n",
       "2           4wd        wagon   9095.750000\n",
       "3           fwd  convertible  11595.000000\n",
       "4           fwd      hardtop   8249.000000\n",
       "5           fwd    hatchback   8396.387755\n",
       "6           fwd        sedan   9467.526316\n",
       "7           fwd        wagon   9997.333333\n",
       "8           rwd  convertible  23949.600000\n",
       "9           rwd      hardtop  24202.714286\n",
       "10          rwd    hatchback  13583.157895\n",
       "11          rwd        sedan  21711.833333\n",
       "12          rwd        wagon  16994.222222"
      ]
     },
     "execution_count": 321,
     "metadata": {},
     "output_type": "execute_result"
    }
   ],
   "source": [
    "# 차량의 평균 가격을 찾는데 관심이 있다\n",
    "# 관심이 있는 3개의 데이터 열을 선택\n",
    "df_test = df[['drive-wheels', 'body-style' , 'price']]\n",
    "# \"drive-wheels\" 및 \"body-style\" 에 따라 축소된 데이터 생성\n",
    "df_grp = df_test.groupby(['drive-wheels', 'body-style'], as_index = False).mean()\n",
    "df_grp"
   ]
  },
  {
   "cell_type": "markdown",
   "metadata": {},
   "source": [
    "결과는 하위 카테고리로 그룹화되며, 각 하위 카테고리의 평균 가격이 표시된다."
   ]
  },
  {
   "cell_type": "markdown",
   "metadata": {},
   "source": [
    "- Pivot Table\n",
    "    - 피벗 테이블로 보기 쉽게 해보자"
   ]
  },
  {
   "cell_type": "code",
   "execution_count": 578,
   "metadata": {},
   "outputs": [
    {
     "data": {
      "text/html": [
       "<div>\n",
       "<style scoped>\n",
       "    .dataframe tbody tr th:only-of-type {\n",
       "        vertical-align: middle;\n",
       "    }\n",
       "\n",
       "    .dataframe tbody tr th {\n",
       "        vertical-align: top;\n",
       "    }\n",
       "\n",
       "    .dataframe thead tr th {\n",
       "        text-align: left;\n",
       "    }\n",
       "\n",
       "    .dataframe thead tr:last-of-type th {\n",
       "        text-align: right;\n",
       "    }\n",
       "</style>\n",
       "<table border=\"1\" class=\"dataframe\">\n",
       "  <thead>\n",
       "    <tr>\n",
       "      <th></th>\n",
       "      <th colspan=\"5\" halign=\"left\">price</th>\n",
       "    </tr>\n",
       "    <tr>\n",
       "      <th>body-style</th>\n",
       "      <th>convertible</th>\n",
       "      <th>hardtop</th>\n",
       "      <th>hatchback</th>\n",
       "      <th>sedan</th>\n",
       "      <th>wagon</th>\n",
       "    </tr>\n",
       "    <tr>\n",
       "      <th>drive-wheels</th>\n",
       "      <th></th>\n",
       "      <th></th>\n",
       "      <th></th>\n",
       "      <th></th>\n",
       "      <th></th>\n",
       "    </tr>\n",
       "  </thead>\n",
       "  <tbody>\n",
       "    <tr>\n",
       "      <th>4wd</th>\n",
       "      <td>NaN</td>\n",
       "      <td>NaN</td>\n",
       "      <td>3801.500000</td>\n",
       "      <td>12647.333333</td>\n",
       "      <td>9095.750000</td>\n",
       "    </tr>\n",
       "    <tr>\n",
       "      <th>fwd</th>\n",
       "      <td>11595.0</td>\n",
       "      <td>8249.000000</td>\n",
       "      <td>8396.387755</td>\n",
       "      <td>9467.526316</td>\n",
       "      <td>9997.333333</td>\n",
       "    </tr>\n",
       "    <tr>\n",
       "      <th>rwd</th>\n",
       "      <td>23949.6</td>\n",
       "      <td>24202.714286</td>\n",
       "      <td>13583.157895</td>\n",
       "      <td>21711.833333</td>\n",
       "      <td>16994.222222</td>\n",
       "    </tr>\n",
       "  </tbody>\n",
       "</table>\n",
       "</div>"
      ],
      "text/plain": [
       "                   price                                            \\\n",
       "body-style   convertible       hardtop     hatchback         sedan   \n",
       "drive-wheels                                                         \n",
       "4wd                  NaN           NaN   3801.500000  12647.333333   \n",
       "fwd              11595.0   8249.000000   8396.387755   9467.526316   \n",
       "rwd              23949.6  24202.714286  13583.157895  21711.833333   \n",
       "\n",
       "                            \n",
       "body-style           wagon  \n",
       "drive-wheels                \n",
       "4wd            9095.750000  \n",
       "fwd            9997.333333  \n",
       "rwd           16994.222222  "
      ]
     },
     "execution_count": 578,
     "metadata": {},
     "output_type": "execute_result"
    }
   ],
   "source": [
    "df_pivot = df_grp.pivot(index = 'drive-wheels', columns = 'body-style')\n",
    "df_pivot"
   ]
  },
  {
   "cell_type": "markdown",
   "metadata": {},
   "source": [
    "열 = \"drive-wheels\" 에 따라, 행 = \"body-style\" 에 따라 표시된다"
   ]
  },
  {
   "cell_type": "markdown",
   "metadata": {},
   "source": [
    "## Heatmap Plot\n",
    "    - Pivot table을 나타내는 다른 방법"
   ]
  },
  {
   "cell_type": "code",
   "execution_count": 61,
   "metadata": {},
   "outputs": [
    {
     "data": {
      "image/png": "[encoded data removed]",
      "text/plain": [
       "<Figure size 432x288 with 2 Axes>"
      ]
     },
     "metadata": {
      "needs_background": "light"
     },
     "output_type": "display_data"
    }
   ],
   "source": [
    "# pyplot 의 pcolor -> 히트맵을 plot, 이전 pivot table을 그래프 형식으로 변환\n",
    "# 빨강 - 파랑 색 구성표를 지정 'RdBu'\n",
    "plt.pcolor(df_pivot, cmap = 'RdBu')\n",
    "plt.colorbar()\n",
    "plt.show()"
   ]
  },
  {
   "cell_type": "markdown",
   "metadata": {},
   "source": [
    "- 가로 = \"body-style\" , 세로 = \"drive-wheels\"\n",
    "- 평균 가격은 값에 따라 다양한 색상으로 표시된다."
   ]
  },
  {
   "cell_type": "markdown",
   "metadata": {},
   "source": [
    "# Analysis of Variance ( ANOVA = 분산분석)"
   ]
  },
  {
   "cell_type": "markdown",
   "metadata": {},
   "source": [
    "- 샘플의 평균값으로 모집단의 평균값을 추정하여 각 집단 간의 차이가 통계학적으로 의미가 있는지 살펴보는 절차\n",
    "- 모집단 평균, 혹은 두 모집단의 차이를 검정 = T-test\n",
    "- 모집단이 3개 이상인 경우 평균의 차이를 검정 = F-test"
   ]
  },
  {
   "cell_type": "markdown",
   "metadata": {},
   "source": [
    "- ANOVA ( ANalysis Of VAriance)\n",
    "    - 분산 분석을 나타내는 통계 테스트\n",
    "    - 범주형 그룹의 서로 다른 그룹 간의 상관 관계를 찾을 수 있다.\n",
    "    - 모집단의 평균과의 차이를 확인 할 수 있다.\n",
    "    - F-test score 과 p-value 를 반환한다"
   ]
  },
  {
   "cell_type": "markdown",
   "metadata": {},
   "source": [
    "- F-test score\n",
    "    - 각 샘플 그룹 내에서, 그룹의 평균에 대한 편차의 비율을 계산\n",
    "    - score 가 낮으면 평균의 차이가 유사, 높으면 평균의 차이가 크다."
   ]
  },
  {
   "cell_type": "markdown",
   "metadata": {},
   "source": [
    "- p-value\n",
    "    - 샘플링한 데이터가 모집단에 비교하였을 때 얼마나 큰 신뢰성을 가지는가 ?\n",
    "    - 즉, 샘플링한 데이터가 통계 데이터에 유의한가 ?\n",
    "    \n",
    "    - 평균값의 차이가 실제로 의미가 있는 차이인지, 분산이 커서 그런건지 ?\n",
    "    \n",
    "    - p-value < 0.05\n",
    "        - 귀무가설을 기각할 수 있다.\n",
    "    - p-value > 0.05\n",
    "        - 귀무가설을 기각할 수 없다.\n",
    "            - 즉, 연관성이 작다."
   ]
  },
  {
   "cell_type": "markdown",
   "metadata": {},
   "source": [
    "- http://www.statedu.com/term/7369\n",
    "    - 용어 설명 사이트"
   ]
  },
  {
   "cell_type": "code",
   "execution_count": 382,
   "metadata": {},
   "outputs": [
    {
     "data": {
      "image/png": "[encoded data removed]",
      "text/plain": [
       "<Figure size 432x288 with 2 Axes>"
      ]
     },
     "metadata": {
      "needs_background": "light"
     },
     "output_type": "display_data"
    },
    {
     "data": {
      "text/html": [
       "<div>\n",
       "<style scoped>\n",
       "    .dataframe tbody tr th:only-of-type {\n",
       "        vertical-align: middle;\n",
       "    }\n",
       "\n",
       "    .dataframe tbody tr th {\n",
       "        vertical-align: top;\n",
       "    }\n",
       "\n",
       "    .dataframe thead th {\n",
       "        text-align: right;\n",
       "    }\n",
       "</style>\n",
       "<table border=\"1\" class=\"dataframe\">\n",
       "  <thead>\n",
       "    <tr style=\"text-align: right;\">\n",
       "      <th></th>\n",
       "      <th>sysmboling</th>\n",
       "      <th>normalized-losses</th>\n",
       "      <th>make</th>\n",
       "      <th>fuel-type</th>\n",
       "      <th>aspiration</th>\n",
       "      <th>num-of-doors</th>\n",
       "      <th>body-style</th>\n",
       "      <th>drive-wheels</th>\n",
       "      <th>engine-location</th>\n",
       "      <th>wheel_base</th>\n",
       "      <th>...</th>\n",
       "      <th>engine-size</th>\n",
       "      <th>fuel-system</th>\n",
       "      <th>bore</th>\n",
       "      <th>stroke</th>\n",
       "      <th>compression-ratio</th>\n",
       "      <th>horsepower</th>\n",
       "      <th>peak-rpm</th>\n",
       "      <th>city-mpg</th>\n",
       "      <th>highway-mpg</th>\n",
       "      <th>price</th>\n",
       "    </tr>\n",
       "  </thead>\n",
       "  <tbody>\n",
       "    <tr>\n",
       "      <th>30</th>\n",
       "      <td>2</td>\n",
       "      <td>137</td>\n",
       "      <td>honda</td>\n",
       "      <td>gas</td>\n",
       "      <td>std</td>\n",
       "      <td>two</td>\n",
       "      <td>hatchback</td>\n",
       "      <td>fwd</td>\n",
       "      <td>front</td>\n",
       "      <td>86.6</td>\n",
       "      <td>...</td>\n",
       "      <td>92</td>\n",
       "      <td>1bbl</td>\n",
       "      <td>2.91</td>\n",
       "      <td>3.41</td>\n",
       "      <td>9.6</td>\n",
       "      <td>58</td>\n",
       "      <td>4800</td>\n",
       "      <td>49</td>\n",
       "      <td>54</td>\n",
       "      <td>6479</td>\n",
       "    </tr>\n",
       "    <tr>\n",
       "      <th>31</th>\n",
       "      <td>2</td>\n",
       "      <td>137</td>\n",
       "      <td>honda</td>\n",
       "      <td>gas</td>\n",
       "      <td>std</td>\n",
       "      <td>two</td>\n",
       "      <td>hatchback</td>\n",
       "      <td>fwd</td>\n",
       "      <td>front</td>\n",
       "      <td>86.6</td>\n",
       "      <td>...</td>\n",
       "      <td>92</td>\n",
       "      <td>1bbl</td>\n",
       "      <td>2.91</td>\n",
       "      <td>3.41</td>\n",
       "      <td>9.2</td>\n",
       "      <td>76</td>\n",
       "      <td>6000</td>\n",
       "      <td>31</td>\n",
       "      <td>38</td>\n",
       "      <td>6855</td>\n",
       "    </tr>\n",
       "    <tr>\n",
       "      <th>32</th>\n",
       "      <td>1</td>\n",
       "      <td>101</td>\n",
       "      <td>honda</td>\n",
       "      <td>gas</td>\n",
       "      <td>std</td>\n",
       "      <td>two</td>\n",
       "      <td>hatchback</td>\n",
       "      <td>fwd</td>\n",
       "      <td>front</td>\n",
       "      <td>93.7</td>\n",
       "      <td>...</td>\n",
       "      <td>79</td>\n",
       "      <td>1bbl</td>\n",
       "      <td>2.91</td>\n",
       "      <td>3.07</td>\n",
       "      <td>10.1</td>\n",
       "      <td>60</td>\n",
       "      <td>5500</td>\n",
       "      <td>38</td>\n",
       "      <td>42</td>\n",
       "      <td>5399</td>\n",
       "    </tr>\n",
       "    <tr>\n",
       "      <th>33</th>\n",
       "      <td>1</td>\n",
       "      <td>101</td>\n",
       "      <td>honda</td>\n",
       "      <td>gas</td>\n",
       "      <td>std</td>\n",
       "      <td>two</td>\n",
       "      <td>hatchback</td>\n",
       "      <td>fwd</td>\n",
       "      <td>front</td>\n",
       "      <td>93.7</td>\n",
       "      <td>...</td>\n",
       "      <td>92</td>\n",
       "      <td>1bbl</td>\n",
       "      <td>2.91</td>\n",
       "      <td>3.41</td>\n",
       "      <td>9.2</td>\n",
       "      <td>76</td>\n",
       "      <td>6000</td>\n",
       "      <td>30</td>\n",
       "      <td>34</td>\n",
       "      <td>6529</td>\n",
       "    </tr>\n",
       "    <tr>\n",
       "      <th>34</th>\n",
       "      <td>1</td>\n",
       "      <td>101</td>\n",
       "      <td>honda</td>\n",
       "      <td>gas</td>\n",
       "      <td>std</td>\n",
       "      <td>two</td>\n",
       "      <td>hatchback</td>\n",
       "      <td>fwd</td>\n",
       "      <td>front</td>\n",
       "      <td>93.7</td>\n",
       "      <td>...</td>\n",
       "      <td>92</td>\n",
       "      <td>1bbl</td>\n",
       "      <td>2.91</td>\n",
       "      <td>3.41</td>\n",
       "      <td>9.2</td>\n",
       "      <td>76</td>\n",
       "      <td>6000</td>\n",
       "      <td>30</td>\n",
       "      <td>34</td>\n",
       "      <td>7129</td>\n",
       "    </tr>\n",
       "    <tr>\n",
       "      <th>35</th>\n",
       "      <td>0</td>\n",
       "      <td>110</td>\n",
       "      <td>honda</td>\n",
       "      <td>gas</td>\n",
       "      <td>std</td>\n",
       "      <td>four</td>\n",
       "      <td>sedan</td>\n",
       "      <td>fwd</td>\n",
       "      <td>front</td>\n",
       "      <td>96.5</td>\n",
       "      <td>...</td>\n",
       "      <td>92</td>\n",
       "      <td>1bbl</td>\n",
       "      <td>2.91</td>\n",
       "      <td>3.41</td>\n",
       "      <td>9.2</td>\n",
       "      <td>76</td>\n",
       "      <td>6000</td>\n",
       "      <td>30</td>\n",
       "      <td>34</td>\n",
       "      <td>7295</td>\n",
       "    </tr>\n",
       "    <tr>\n",
       "      <th>36</th>\n",
       "      <td>0</td>\n",
       "      <td>78</td>\n",
       "      <td>honda</td>\n",
       "      <td>gas</td>\n",
       "      <td>std</td>\n",
       "      <td>four</td>\n",
       "      <td>wagon</td>\n",
       "      <td>fwd</td>\n",
       "      <td>front</td>\n",
       "      <td>96.5</td>\n",
       "      <td>...</td>\n",
       "      <td>92</td>\n",
       "      <td>1bbl</td>\n",
       "      <td>2.92</td>\n",
       "      <td>3.41</td>\n",
       "      <td>9.2</td>\n",
       "      <td>76</td>\n",
       "      <td>6000</td>\n",
       "      <td>30</td>\n",
       "      <td>34</td>\n",
       "      <td>7295</td>\n",
       "    </tr>\n",
       "    <tr>\n",
       "      <th>37</th>\n",
       "      <td>0</td>\n",
       "      <td>106</td>\n",
       "      <td>honda</td>\n",
       "      <td>gas</td>\n",
       "      <td>std</td>\n",
       "      <td>two</td>\n",
       "      <td>hatchback</td>\n",
       "      <td>fwd</td>\n",
       "      <td>front</td>\n",
       "      <td>96.5</td>\n",
       "      <td>...</td>\n",
       "      <td>110</td>\n",
       "      <td>1bbl</td>\n",
       "      <td>3.15</td>\n",
       "      <td>3.58</td>\n",
       "      <td>9.0</td>\n",
       "      <td>86</td>\n",
       "      <td>5800</td>\n",
       "      <td>27</td>\n",
       "      <td>33</td>\n",
       "      <td>7895</td>\n",
       "    </tr>\n",
       "    <tr>\n",
       "      <th>38</th>\n",
       "      <td>0</td>\n",
       "      <td>106</td>\n",
       "      <td>honda</td>\n",
       "      <td>gas</td>\n",
       "      <td>std</td>\n",
       "      <td>two</td>\n",
       "      <td>hatchback</td>\n",
       "      <td>fwd</td>\n",
       "      <td>front</td>\n",
       "      <td>96.5</td>\n",
       "      <td>...</td>\n",
       "      <td>110</td>\n",
       "      <td>1bbl</td>\n",
       "      <td>3.15</td>\n",
       "      <td>3.58</td>\n",
       "      <td>9.0</td>\n",
       "      <td>86</td>\n",
       "      <td>5800</td>\n",
       "      <td>27</td>\n",
       "      <td>33</td>\n",
       "      <td>9095</td>\n",
       "    </tr>\n",
       "    <tr>\n",
       "      <th>39</th>\n",
       "      <td>0</td>\n",
       "      <td>85</td>\n",
       "      <td>honda</td>\n",
       "      <td>gas</td>\n",
       "      <td>std</td>\n",
       "      <td>four</td>\n",
       "      <td>sedan</td>\n",
       "      <td>fwd</td>\n",
       "      <td>front</td>\n",
       "      <td>96.5</td>\n",
       "      <td>...</td>\n",
       "      <td>110</td>\n",
       "      <td>1bbl</td>\n",
       "      <td>3.15</td>\n",
       "      <td>3.58</td>\n",
       "      <td>9.0</td>\n",
       "      <td>86</td>\n",
       "      <td>5800</td>\n",
       "      <td>27</td>\n",
       "      <td>33</td>\n",
       "      <td>8845</td>\n",
       "    </tr>\n",
       "    <tr>\n",
       "      <th>40</th>\n",
       "      <td>0</td>\n",
       "      <td>85</td>\n",
       "      <td>honda</td>\n",
       "      <td>gas</td>\n",
       "      <td>std</td>\n",
       "      <td>four</td>\n",
       "      <td>sedan</td>\n",
       "      <td>fwd</td>\n",
       "      <td>front</td>\n",
       "      <td>96.5</td>\n",
       "      <td>...</td>\n",
       "      <td>110</td>\n",
       "      <td>1bbl</td>\n",
       "      <td>3.15</td>\n",
       "      <td>3.58</td>\n",
       "      <td>9.0</td>\n",
       "      <td>86</td>\n",
       "      <td>5800</td>\n",
       "      <td>27</td>\n",
       "      <td>33</td>\n",
       "      <td>10295</td>\n",
       "    </tr>\n",
       "    <tr>\n",
       "      <th>41</th>\n",
       "      <td>0</td>\n",
       "      <td>85</td>\n",
       "      <td>honda</td>\n",
       "      <td>gas</td>\n",
       "      <td>std</td>\n",
       "      <td>four</td>\n",
       "      <td>sedan</td>\n",
       "      <td>fwd</td>\n",
       "      <td>front</td>\n",
       "      <td>96.5</td>\n",
       "      <td>...</td>\n",
       "      <td>110</td>\n",
       "      <td>mpfi</td>\n",
       "      <td>3.15</td>\n",
       "      <td>3.58</td>\n",
       "      <td>9.0</td>\n",
       "      <td>101</td>\n",
       "      <td>5800</td>\n",
       "      <td>24</td>\n",
       "      <td>28</td>\n",
       "      <td>12945</td>\n",
       "    </tr>\n",
       "    <tr>\n",
       "      <th>42</th>\n",
       "      <td>1</td>\n",
       "      <td>107</td>\n",
       "      <td>honda</td>\n",
       "      <td>gas</td>\n",
       "      <td>std</td>\n",
       "      <td>two</td>\n",
       "      <td>sedan</td>\n",
       "      <td>fwd</td>\n",
       "      <td>front</td>\n",
       "      <td>96.5</td>\n",
       "      <td>...</td>\n",
       "      <td>110</td>\n",
       "      <td>2bbl</td>\n",
       "      <td>3.15</td>\n",
       "      <td>3.58</td>\n",
       "      <td>9.1</td>\n",
       "      <td>100</td>\n",
       "      <td>5500</td>\n",
       "      <td>25</td>\n",
       "      <td>31</td>\n",
       "      <td>10345</td>\n",
       "    </tr>\n",
       "    <tr>\n",
       "      <th>47</th>\n",
       "      <td>0</td>\n",
       "      <td>145</td>\n",
       "      <td>jaguar</td>\n",
       "      <td>gas</td>\n",
       "      <td>std</td>\n",
       "      <td>four</td>\n",
       "      <td>sedan</td>\n",
       "      <td>rwd</td>\n",
       "      <td>front</td>\n",
       "      <td>113.0</td>\n",
       "      <td>...</td>\n",
       "      <td>258</td>\n",
       "      <td>mpfi</td>\n",
       "      <td>3.63</td>\n",
       "      <td>4.17</td>\n",
       "      <td>8.1</td>\n",
       "      <td>176</td>\n",
       "      <td>4750</td>\n",
       "      <td>15</td>\n",
       "      <td>19</td>\n",
       "      <td>32250</td>\n",
       "    </tr>\n",
       "    <tr>\n",
       "      <th>48</th>\n",
       "      <td>0</td>\n",
       "      <td>?</td>\n",
       "      <td>jaguar</td>\n",
       "      <td>gas</td>\n",
       "      <td>std</td>\n",
       "      <td>four</td>\n",
       "      <td>sedan</td>\n",
       "      <td>rwd</td>\n",
       "      <td>front</td>\n",
       "      <td>113.0</td>\n",
       "      <td>...</td>\n",
       "      <td>258</td>\n",
       "      <td>mpfi</td>\n",
       "      <td>3.63</td>\n",
       "      <td>4.17</td>\n",
       "      <td>8.1</td>\n",
       "      <td>176</td>\n",
       "      <td>4750</td>\n",
       "      <td>15</td>\n",
       "      <td>19</td>\n",
       "      <td>35550</td>\n",
       "    </tr>\n",
       "    <tr>\n",
       "      <th>49</th>\n",
       "      <td>0</td>\n",
       "      <td>?</td>\n",
       "      <td>jaguar</td>\n",
       "      <td>gas</td>\n",
       "      <td>std</td>\n",
       "      <td>two</td>\n",
       "      <td>sedan</td>\n",
       "      <td>rwd</td>\n",
       "      <td>front</td>\n",
       "      <td>102.0</td>\n",
       "      <td>...</td>\n",
       "      <td>326</td>\n",
       "      <td>mpfi</td>\n",
       "      <td>3.54</td>\n",
       "      <td>2.76</td>\n",
       "      <td>11.5</td>\n",
       "      <td>262</td>\n",
       "      <td>5000</td>\n",
       "      <td>13</td>\n",
       "      <td>17</td>\n",
       "      <td>36000</td>\n",
       "    </tr>\n",
       "    <tr>\n",
       "      <th>138</th>\n",
       "      <td>2</td>\n",
       "      <td>83</td>\n",
       "      <td>subaru</td>\n",
       "      <td>gas</td>\n",
       "      <td>std</td>\n",
       "      <td>two</td>\n",
       "      <td>hatchback</td>\n",
       "      <td>fwd</td>\n",
       "      <td>front</td>\n",
       "      <td>93.7</td>\n",
       "      <td>...</td>\n",
       "      <td>97</td>\n",
       "      <td>2bbl</td>\n",
       "      <td>3.62</td>\n",
       "      <td>2.36</td>\n",
       "      <td>9.0</td>\n",
       "      <td>69</td>\n",
       "      <td>4900</td>\n",
       "      <td>31</td>\n",
       "      <td>36</td>\n",
       "      <td>5118</td>\n",
       "    </tr>\n",
       "    <tr>\n",
       "      <th>139</th>\n",
       "      <td>2</td>\n",
       "      <td>83</td>\n",
       "      <td>subaru</td>\n",
       "      <td>gas</td>\n",
       "      <td>std</td>\n",
       "      <td>two</td>\n",
       "      <td>hatchback</td>\n",
       "      <td>fwd</td>\n",
       "      <td>front</td>\n",
       "      <td>93.7</td>\n",
       "      <td>...</td>\n",
       "      <td>108</td>\n",
       "      <td>2bbl</td>\n",
       "      <td>3.62</td>\n",
       "      <td>2.64</td>\n",
       "      <td>8.7</td>\n",
       "      <td>73</td>\n",
       "      <td>4400</td>\n",
       "      <td>26</td>\n",
       "      <td>31</td>\n",
       "      <td>7053</td>\n",
       "    </tr>\n",
       "    <tr>\n",
       "      <th>140</th>\n",
       "      <td>2</td>\n",
       "      <td>83</td>\n",
       "      <td>subaru</td>\n",
       "      <td>gas</td>\n",
       "      <td>std</td>\n",
       "      <td>two</td>\n",
       "      <td>hatchback</td>\n",
       "      <td>4wd</td>\n",
       "      <td>front</td>\n",
       "      <td>93.3</td>\n",
       "      <td>...</td>\n",
       "      <td>108</td>\n",
       "      <td>2bbl</td>\n",
       "      <td>3.62</td>\n",
       "      <td>2.64</td>\n",
       "      <td>8.7</td>\n",
       "      <td>73</td>\n",
       "      <td>4400</td>\n",
       "      <td>26</td>\n",
       "      <td>31</td>\n",
       "      <td>7603</td>\n",
       "    </tr>\n",
       "    <tr>\n",
       "      <th>141</th>\n",
       "      <td>0</td>\n",
       "      <td>102</td>\n",
       "      <td>subaru</td>\n",
       "      <td>gas</td>\n",
       "      <td>std</td>\n",
       "      <td>four</td>\n",
       "      <td>sedan</td>\n",
       "      <td>fwd</td>\n",
       "      <td>front</td>\n",
       "      <td>97.2</td>\n",
       "      <td>...</td>\n",
       "      <td>108</td>\n",
       "      <td>2bbl</td>\n",
       "      <td>3.62</td>\n",
       "      <td>2.64</td>\n",
       "      <td>9.5</td>\n",
       "      <td>82</td>\n",
       "      <td>4800</td>\n",
       "      <td>32</td>\n",
       "      <td>37</td>\n",
       "      <td>7126</td>\n",
       "    </tr>\n",
       "    <tr>\n",
       "      <th>142</th>\n",
       "      <td>0</td>\n",
       "      <td>102</td>\n",
       "      <td>subaru</td>\n",
       "      <td>gas</td>\n",
       "      <td>std</td>\n",
       "      <td>four</td>\n",
       "      <td>sedan</td>\n",
       "      <td>fwd</td>\n",
       "      <td>front</td>\n",
       "      <td>97.2</td>\n",
       "      <td>...</td>\n",
       "      <td>108</td>\n",
       "      <td>2bbl</td>\n",
       "      <td>3.62</td>\n",
       "      <td>2.64</td>\n",
       "      <td>9.5</td>\n",
       "      <td>82</td>\n",
       "      <td>4400</td>\n",
       "      <td>28</td>\n",
       "      <td>33</td>\n",
       "      <td>7775</td>\n",
       "    </tr>\n",
       "    <tr>\n",
       "      <th>143</th>\n",
       "      <td>0</td>\n",
       "      <td>102</td>\n",
       "      <td>subaru</td>\n",
       "      <td>gas</td>\n",
       "      <td>std</td>\n",
       "      <td>four</td>\n",
       "      <td>sedan</td>\n",
       "      <td>fwd</td>\n",
       "      <td>front</td>\n",
       "      <td>97.2</td>\n",
       "      <td>...</td>\n",
       "      <td>108</td>\n",
       "      <td>mpfi</td>\n",
       "      <td>3.62</td>\n",
       "      <td>2.64</td>\n",
       "      <td>9.0</td>\n",
       "      <td>94</td>\n",
       "      <td>5200</td>\n",
       "      <td>26</td>\n",
       "      <td>32</td>\n",
       "      <td>9960</td>\n",
       "    </tr>\n",
       "    <tr>\n",
       "      <th>144</th>\n",
       "      <td>0</td>\n",
       "      <td>102</td>\n",
       "      <td>subaru</td>\n",
       "      <td>gas</td>\n",
       "      <td>std</td>\n",
       "      <td>four</td>\n",
       "      <td>sedan</td>\n",
       "      <td>4wd</td>\n",
       "      <td>front</td>\n",
       "      <td>97.0</td>\n",
       "      <td>...</td>\n",
       "      <td>108</td>\n",
       "      <td>2bbl</td>\n",
       "      <td>3.62</td>\n",
       "      <td>2.64</td>\n",
       "      <td>9.0</td>\n",
       "      <td>82</td>\n",
       "      <td>4800</td>\n",
       "      <td>24</td>\n",
       "      <td>25</td>\n",
       "      <td>9233</td>\n",
       "    </tr>\n",
       "    <tr>\n",
       "      <th>145</th>\n",
       "      <td>0</td>\n",
       "      <td>102</td>\n",
       "      <td>subaru</td>\n",
       "      <td>gas</td>\n",
       "      <td>turbo</td>\n",
       "      <td>four</td>\n",
       "      <td>sedan</td>\n",
       "      <td>4wd</td>\n",
       "      <td>front</td>\n",
       "      <td>97.0</td>\n",
       "      <td>...</td>\n",
       "      <td>108</td>\n",
       "      <td>mpfi</td>\n",
       "      <td>3.62</td>\n",
       "      <td>2.64</td>\n",
       "      <td>7.7</td>\n",
       "      <td>111</td>\n",
       "      <td>4800</td>\n",
       "      <td>24</td>\n",
       "      <td>29</td>\n",
       "      <td>11259</td>\n",
       "    </tr>\n",
       "    <tr>\n",
       "      <th>146</th>\n",
       "      <td>0</td>\n",
       "      <td>89</td>\n",
       "      <td>subaru</td>\n",
       "      <td>gas</td>\n",
       "      <td>std</td>\n",
       "      <td>four</td>\n",
       "      <td>wagon</td>\n",
       "      <td>fwd</td>\n",
       "      <td>front</td>\n",
       "      <td>97.0</td>\n",
       "      <td>...</td>\n",
       "      <td>108</td>\n",
       "      <td>2bbl</td>\n",
       "      <td>3.62</td>\n",
       "      <td>2.64</td>\n",
       "      <td>9.0</td>\n",
       "      <td>82</td>\n",
       "      <td>4800</td>\n",
       "      <td>28</td>\n",
       "      <td>32</td>\n",
       "      <td>7463</td>\n",
       "    </tr>\n",
       "    <tr>\n",
       "      <th>147</th>\n",
       "      <td>0</td>\n",
       "      <td>89</td>\n",
       "      <td>subaru</td>\n",
       "      <td>gas</td>\n",
       "      <td>std</td>\n",
       "      <td>four</td>\n",
       "      <td>wagon</td>\n",
       "      <td>fwd</td>\n",
       "      <td>front</td>\n",
       "      <td>97.0</td>\n",
       "      <td>...</td>\n",
       "      <td>108</td>\n",
       "      <td>mpfi</td>\n",
       "      <td>3.62</td>\n",
       "      <td>2.64</td>\n",
       "      <td>9.0</td>\n",
       "      <td>94</td>\n",
       "      <td>5200</td>\n",
       "      <td>25</td>\n",
       "      <td>31</td>\n",
       "      <td>10198</td>\n",
       "    </tr>\n",
       "    <tr>\n",
       "      <th>148</th>\n",
       "      <td>0</td>\n",
       "      <td>85</td>\n",
       "      <td>subaru</td>\n",
       "      <td>gas</td>\n",
       "      <td>std</td>\n",
       "      <td>four</td>\n",
       "      <td>wagon</td>\n",
       "      <td>4wd</td>\n",
       "      <td>front</td>\n",
       "      <td>96.9</td>\n",
       "      <td>...</td>\n",
       "      <td>108</td>\n",
       "      <td>2bbl</td>\n",
       "      <td>3.62</td>\n",
       "      <td>2.64</td>\n",
       "      <td>9.0</td>\n",
       "      <td>82</td>\n",
       "      <td>4800</td>\n",
       "      <td>23</td>\n",
       "      <td>29</td>\n",
       "      <td>8013</td>\n",
       "    </tr>\n",
       "    <tr>\n",
       "      <th>149</th>\n",
       "      <td>0</td>\n",
       "      <td>85</td>\n",
       "      <td>subaru</td>\n",
       "      <td>gas</td>\n",
       "      <td>turbo</td>\n",
       "      <td>four</td>\n",
       "      <td>wagon</td>\n",
       "      <td>4wd</td>\n",
       "      <td>front</td>\n",
       "      <td>96.9</td>\n",
       "      <td>...</td>\n",
       "      <td>108</td>\n",
       "      <td>mpfi</td>\n",
       "      <td>3.62</td>\n",
       "      <td>2.64</td>\n",
       "      <td>7.7</td>\n",
       "      <td>111</td>\n",
       "      <td>4800</td>\n",
       "      <td>23</td>\n",
       "      <td>23</td>\n",
       "      <td>11694</td>\n",
       "    </tr>\n",
       "  </tbody>\n",
       "</table>\n",
       "<p>28 rows × 26 columns</p>\n",
       "</div>"
      ],
      "text/plain": [
       "     sysmboling normalized-losses    make fuel-type aspiration num-of-doors  \\\n",
       "30            2               137   honda       gas        std          two   \n",
       "31            2               137   honda       gas        std          two   \n",
       "32            1               101   honda       gas        std          two   \n",
       "33            1               101   honda       gas        std          two   \n",
       "34            1               101   honda       gas        std          two   \n",
       "35            0               110   honda       gas        std         four   \n",
       "36            0                78   honda       gas        std         four   \n",
       "37            0               106   honda       gas        std          two   \n",
       "38            0               106   honda       gas        std          two   \n",
       "39            0                85   honda       gas        std         four   \n",
       "40            0                85   honda       gas        std         four   \n",
       "41            0                85   honda       gas        std         four   \n",
       "42            1               107   honda       gas        std          two   \n",
       "47            0               145  jaguar       gas        std         four   \n",
       "48            0                 ?  jaguar       gas        std         four   \n",
       "49            0                 ?  jaguar       gas        std          two   \n",
       "138           2                83  subaru       gas        std          two   \n",
       "139           2                83  subaru       gas        std          two   \n",
       "140           2                83  subaru       gas        std          two   \n",
       "141           0               102  subaru       gas        std         four   \n",
       "142           0               102  subaru       gas        std         four   \n",
       "143           0               102  subaru       gas        std         four   \n",
       "144           0               102  subaru       gas        std         four   \n",
       "145           0               102  subaru       gas      turbo         four   \n",
       "146           0                89  subaru       gas        std         four   \n",
       "147           0                89  subaru       gas        std         four   \n",
       "148           0                85  subaru       gas        std         four   \n",
       "149           0                85  subaru       gas      turbo         four   \n",
       "\n",
       "    body-style drive-wheels engine-location  wheel_base  ...  engine-size  \\\n",
       "30   hatchback          fwd           front        86.6  ...           92   \n",
       "31   hatchback          fwd           front        86.6  ...           92   \n",
       "32   hatchback          fwd           front        93.7  ...           79   \n",
       "33   hatchback          fwd           front        93.7  ...           92   \n",
       "34   hatchback          fwd           front        93.7  ...           92   \n",
       "35       sedan          fwd           front        96.5  ...           92   \n",
       "36       wagon          fwd           front        96.5  ...           92   \n",
       "37   hatchback          fwd           front        96.5  ...          110   \n",
       "38   hatchback          fwd           front        96.5  ...          110   \n",
       "39       sedan          fwd           front        96.5  ...          110   \n",
       "40       sedan          fwd           front        96.5  ...          110   \n",
       "41       sedan          fwd           front        96.5  ...          110   \n",
       "42       sedan          fwd           front        96.5  ...          110   \n",
       "47       sedan          rwd           front       113.0  ...          258   \n",
       "48       sedan          rwd           front       113.0  ...          258   \n",
       "49       sedan          rwd           front       102.0  ...          326   \n",
       "138  hatchback          fwd           front        93.7  ...           97   \n",
       "139  hatchback          fwd           front        93.7  ...          108   \n",
       "140  hatchback          4wd           front        93.3  ...          108   \n",
       "141      sedan          fwd           front        97.2  ...          108   \n",
       "142      sedan          fwd           front        97.2  ...          108   \n",
       "143      sedan          fwd           front        97.2  ...          108   \n",
       "144      sedan          4wd           front        97.0  ...          108   \n",
       "145      sedan          4wd           front        97.0  ...          108   \n",
       "146      wagon          fwd           front        97.0  ...          108   \n",
       "147      wagon          fwd           front        97.0  ...          108   \n",
       "148      wagon          4wd           front        96.9  ...          108   \n",
       "149      wagon          4wd           front        96.9  ...          108   \n",
       "\n",
       "     fuel-system  bore  stroke compression-ratio horsepower  peak-rpm  \\\n",
       "30          1bbl  2.91    3.41               9.6         58      4800   \n",
       "31          1bbl  2.91    3.41               9.2         76      6000   \n",
       "32          1bbl  2.91    3.07              10.1         60      5500   \n",
       "33          1bbl  2.91    3.41               9.2         76      6000   \n",
       "34          1bbl  2.91    3.41               9.2         76      6000   \n",
       "35          1bbl  2.91    3.41               9.2         76      6000   \n",
       "36          1bbl  2.92    3.41               9.2         76      6000   \n",
       "37          1bbl  3.15    3.58               9.0         86      5800   \n",
       "38          1bbl  3.15    3.58               9.0         86      5800   \n",
       "39          1bbl  3.15    3.58               9.0         86      5800   \n",
       "40          1bbl  3.15    3.58               9.0         86      5800   \n",
       "41          mpfi  3.15    3.58               9.0        101      5800   \n",
       "42          2bbl  3.15    3.58               9.1        100      5500   \n",
       "47          mpfi  3.63    4.17               8.1        176      4750   \n",
       "48          mpfi  3.63    4.17               8.1        176      4750   \n",
       "49          mpfi  3.54    2.76              11.5        262      5000   \n",
       "138         2bbl  3.62    2.36               9.0         69      4900   \n",
       "139         2bbl  3.62    2.64               8.7         73      4400   \n",
       "140         2bbl  3.62    2.64               8.7         73      4400   \n",
       "141         2bbl  3.62    2.64               9.5         82      4800   \n",
       "142         2bbl  3.62    2.64               9.5         82      4400   \n",
       "143         mpfi  3.62    2.64               9.0         94      5200   \n",
       "144         2bbl  3.62    2.64               9.0         82      4800   \n",
       "145         mpfi  3.62    2.64               7.7        111      4800   \n",
       "146         2bbl  3.62    2.64               9.0         82      4800   \n",
       "147         mpfi  3.62    2.64               9.0         94      5200   \n",
       "148         2bbl  3.62    2.64               9.0         82      4800   \n",
       "149         mpfi  3.62    2.64               7.7        111      4800   \n",
       "\n",
       "    city-mpg highway-mpg  price  \n",
       "30        49          54   6479  \n",
       "31        31          38   6855  \n",
       "32        38          42   5399  \n",
       "33        30          34   6529  \n",
       "34        30          34   7129  \n",
       "35        30          34   7295  \n",
       "36        30          34   7295  \n",
       "37        27          33   7895  \n",
       "38        27          33   9095  \n",
       "39        27          33   8845  \n",
       "40        27          33  10295  \n",
       "41        24          28  12945  \n",
       "42        25          31  10345  \n",
       "47        15          19  32250  \n",
       "48        15          19  35550  \n",
       "49        13          17  36000  \n",
       "138       31          36   5118  \n",
       "139       26          31   7053  \n",
       "140       26          31   7603  \n",
       "141       32          37   7126  \n",
       "142       28          33   7775  \n",
       "143       26          32   9960  \n",
       "144       24          25   9233  \n",
       "145       24          29  11259  \n",
       "146       28          32   7463  \n",
       "147       25          31  10198  \n",
       "148       23          29   8013  \n",
       "149       23          23  11694  \n",
       "\n",
       "[28 rows x 26 columns]"
      ]
     },
     "execution_count": 382,
     "metadata": {},
     "output_type": "execute_result"
    }
   ],
   "source": [
    "import numpy as np\n",
    "\n",
    "plt.subplot(211)\n",
    "plt.bar(df[\"make\"], df[\"price\"])\n",
    "plt.xlabel(\"name\")\n",
    "plt.ylabel(\"price\")\n",
    "\n",
    "plt.subplot(212)\n",
    "df_list = df[df['make'].isin(['honda', 'subaru', 'jaguar'])]\n",
    "plt.bar(df_list[\"make\"], df_list[\"price\"])\n",
    "\n",
    "plt.show()\n",
    "df_list"
   ]
  },
  {
   "cell_type": "code",
   "execution_count": 385,
   "metadata": {},
   "outputs": [
    {
     "name": "stdout",
     "output_type": "stream",
     "text": [
      "F_onewayResult(statistic=0.19744030127462606, pvalue=0.6609478240622193)\n",
      "F_onewayResult(statistic=400.925870564337, pvalue=1.0586193512077862e-11)\n"
     ]
    }
   ],
   "source": [
    "import scipy.stats\n",
    "\n",
    "# make 와 price 데이터 추출\n",
    "df_anova = df[[\"make\", \"price\"]]\n",
    "# 제작자별로 데이터를 그룹화\n",
    "grouped_anova = df_anova.groupby([\"make\"])\n",
    "# f_oneway()\n",
    "# honda vs subaru\n",
    "anova_results_1 = scipy.stats.f_oneway(grouped_anova.get_group(\"honda\")[\"price\"],\n",
    "                                grouped_anova.get_group(\"subaru\")[\"price\"])\n",
    "# honda vs jaguar\n",
    "anova_results_2 = scipy.stats.f_oneway(grouped_anova.get_group(\"honda\")[\"price\"],\n",
    "                                      grouped_anova.get_group(\"jaguar\")[\"price\"])\n",
    "\n",
    "print(anova_results_1)\n",
    "print(anova_results_2)"
   ]
  },
  {
   "cell_type": "markdown",
   "metadata": {},
   "source": [
    "- honda vs subaru 의 가격\n",
    "    - F 테스트 점수가 1보다 작다.\n",
    "        - 평균값이 거의 비슷하다.\n",
    "    - pvalue > 0.05\n",
    "        - 둘 사이의 연관성이 없다.\n",
    "- honda vs jaguar 의 가격\n",
    "    - F 테스트 점수가 아주 크다\n",
    "        - 평균이 격차가 크다\n",
    "    - pvalue > 0.05\n",
    "        - 둘 사이의 연관성이 없다."
   ]
  },
  {
   "cell_type": "markdown",
   "metadata": {},
   "source": [
    "# Correaltion"
   ]
  },
  {
   "cell_type": "markdown",
   "metadata": {},
   "source": [
    "- 서로 다른 변수 간의 상관 관계\n",
    "    - 어느 정도 상호 의존적인지를 측정하는 통계 척도\n",
    "- 상관 관계가 원인을 의미 하지는 않는다!\n",
    "    - ex) 우산과 비는 상관 관계가 있지만, 우산이 비를 내렸는지 우산이 비를 일으켰는지에 대한 정보가 없다"
   ]
  },
  {
   "cell_type": "markdown",
   "metadata": {},
   "source": [
    "위의 예제에서 \"engine-size\" 와 \"prices\" 의 상관관계를 본다."
   ]
  },
  {
   "cell_type": "code",
   "execution_count": 389,
   "metadata": {},
   "outputs": [
    {
     "data": {
      "text/plain": [
       "(0, 55811.08297296615)"
      ]
     },
     "execution_count": 389,
     "metadata": {},
     "output_type": "execute_result"
    },
    {
     "data": {
      "image/png": "[encoded data removed]",
      "text/plain": [
       "<Figure size 432x288 with 1 Axes>"
      ]
     },
     "metadata": {
      "needs_background": "light"
     },
     "output_type": "display_data"
    }
   ],
   "source": [
    "import seaborn as sns\n",
    "sns.regplot(x = \"engine-size\", y = \"price\", data=df)\n",
    "plt.ylim(0,)"
   ]
  },
  {
   "cell_type": "markdown",
   "metadata": {},
   "source": [
    "- linear line = \"regression line\" (= 회귀선) 이라고 불린다.\n",
    "- plot 의 목표는  \"engine-size\" 가 \"price\" 에 미치는 영향을 확인하는 것이다.\n",
    "- 이 예시에는 data point를 통과하는 직선이 매우 가파르다\n",
    "    - 두 변수간에 양의 선형관계가 있음을 보여준다.\n",
    "- 기울기가 가파르다 == 상관 관계가 큰 예시"
   ]
  },
  {
   "cell_type": "markdown",
   "metadata": {},
   "source": [
    "# Correlation - Statistics"
   ]
  },
  {
   "cell_type": "markdown",
   "metadata": {},
   "source": [
    "1. Pearson Correlation\n",
    "    - 연속적인 수치 변수간의 상관 관계 정도를 특정하는 방법\n",
    "    - Correaltion coefficient(= 상관 계수), p-value 를 사용\n",
    "        - Correaltion coeffieient\n",
    "            - Colse to +1 : Large Positive relationship\n",
    "            - Colse to -1 : Large Negative relationship\n",
    "            - Colse to  0 : No relationship\n",
    "        - P-value\n",
    "            - p < 0.001 : 상관 관계가 확실하다\n",
    "            - p < 0.05 : 중간 정도의 확실성\n",
    "            - p < 0.1 : 약한 확실성\n",
    "            - p > 0.1 : 확실성 x\n",
    "    - 상관 계수가 가까울수록 강한 상관관계에 있다.\n",
    "        - 1 or -1, p-value < 0.001 미만\n",
    "        "
   ]
  },
  {
   "cell_type": "markdown",
   "metadata": {},
   "source": [
    "위의 예제에서 \"horse-power\", \"price\""
   ]
  },
  {
   "cell_type": "code",
   "execution_count": 585,
   "metadata": {},
   "outputs": [
    {
     "data": {
      "text/plain": [
       "(0.792757895134827, 1.1655292578894657e-44)"
      ]
     },
     "execution_count": 585,
     "metadata": {},
     "output_type": "execute_result"
    }
   ],
   "source": [
    "import scipy.stats as stats\n",
    "\n",
    "df[df['horsepower'].isin(['?'])] = df[df['horsepower'].isin(['?'])].replace('?', 0, inplace = True)\n",
    "df[df['price'].isin(['?'])] = df[df['price'].isin(['?'])].replace('?', 0 , inplace = True)\n",
    "df.dropna(subset = [\"horsepower\"], axis = 0 , inplace = True)\n",
    "stats.pearsonr(df['horsepower'].astype('float'), df['price'].astype('float'))\n"
   ]
  },
  {
   "cell_type": "markdown",
   "metadata": {},
   "source": [
    "- Pearson Correlation ~= 0.8\n",
    "    - 1에 가까우므로 강한 양의 상관 관계가 있다\n",
    "- P-valude = 1.16e-44\n",
    "    - 0.001 보다 훨씬 작은 값\n",
    "        - 상관 관계가 확실하다"
   ]
  },
  {
   "cell_type": "markdown",
   "metadata": {},
   "source": [
    "# Model Development"
   ]
  },
  {
   "cell_type": "markdown",
   "metadata": {},
   "source": [
    "- 배우게 될 것\n",
    "    - Simple and Multiple Linear Regression\n",
    "        - 단순 및 다중 선형 회귀 분석\n",
    "    - Model Evaluation using Visualization\n",
    "        - 시각화를 이용한 모델 평가\n",
    "    - Polynomial Regression and Pipelines\n",
    "        - 다항 회귀와 파이프 라인\n",
    "    - R-squared and MSE for In-Sample Evaluation\n",
    "        - 샘플 내 평가를 위한 R 제곱 및 MSE\n",
    "    - Prediction and Decision Making\n",
    "        - 예측 및 의사 결정"
   ]
  },
  {
   "cell_type": "markdown",
   "metadata": {},
   "source": [
    "# Linear Regression and Multiple Linear Regression"
   ]
  },
  {
   "cell_type": "markdown",
   "metadata": {},
   "source": [
    "- 차이점\n",
    "    - 참조하는 독립 변수의 갯수"
   ]
  },
  {
   "cell_type": "markdown",
   "metadata": {},
   "source": [
    "# Simple Linear Regression ( SLR )"
   ]
  },
  {
   "cell_type": "markdown",
   "metadata": {},
   "source": [
    "- Y^ = b0 + b1X"
   ]
  },
  {
   "cell_type": "code",
   "execution_count": 21,
   "metadata": {
    "scrolled": false
   },
   "outputs": [
    {
     "data": {
      "image/png": "[encoded data removed]",
      "text/plain": [
       "<Figure size 432x288 with 1 Axes>"
      ]
     },
     "metadata": {
      "needs_background": "light"
     },
     "output_type": "display_data"
    }
   ],
   "source": [
    "from sklearn.linear_model import LinearRegression\n",
    "import matplotlib.pyplot as plt\n",
    "# 선형 회귀 모델 생성\n",
    "lm = LinearRegression()\n",
    "\n",
    "# 예측 변수\n",
    "df[df['highway-mpg'].isin(['?'])] = df[df['highway-mpg'].isin(['?'])].replace('?', 0)\n",
    "X = df[['highway-mpg']]\n",
    "# 타겟\n",
    "df[df['price'].isin(['?'])] = df[df['price'].isin(['?'])].replace('?', 0)\n",
    "Y = df['price']\n",
    "\n",
    "# 모델 교육\n",
    "lm.fit(X ,Y)\n",
    "Yhat = lm.predict(X)\n",
    "\n",
    "plt.plot(X, Yhat)\n",
    "plt.xlabel(\"highway-mpg\")\n",
    "plt.ylabel(\"price\")\n",
    "plt.show()"
   ]
  },
  {
   "cell_type": "code",
   "execution_count": 11,
   "metadata": {},
   "outputs": [
    {
     "data": {
      "text/plain": [
       "37758.5056296937"
      ]
     },
     "execution_count": 11,
     "metadata": {},
     "output_type": "execute_result"
    }
   ],
   "source": [
    "# 절편 (b0)\n",
    "lm.intercept_"
   ]
  },
  {
   "cell_type": "code",
   "execution_count": 12,
   "metadata": {},
   "outputs": [
    {
     "data": {
      "text/plain": [
       "array([-806.76723574])"
      ]
     },
     "execution_count": 12,
     "metadata": {},
     "output_type": "execute_result"
    }
   ],
   "source": [
    "# 기울기 (b1)\n",
    "lm.coef_"
   ]
  },
  {
   "cell_type": "markdown",
   "metadata": {},
   "source": [
    "둘 사이의 식은 다음과 같이 정의된다\n",
    "- Price = 37758.51 - 806.77 * highway-mpg"
   ]
  },
  {
   "cell_type": "markdown",
   "metadata": {},
   "source": [
    "# Multiple Linear Regression ( MLR )"
   ]
  },
  {
   "cell_type": "markdown",
   "metadata": {},
   "source": [
    " \n",
    "- Y^ = b0 + b1X1 + b2X2 + b3X3 + ...."
   ]
  },
  {
   "cell_type": "code",
   "execution_count": 6,
   "metadata": {},
   "outputs": [
    {
     "data": {
      "text/plain": [
       "array([13896.49032606, 13896.49032606, 17227.23244169, 10375.21137424,\n",
       "       16290.42510874, 14803.20232557, 15851.4869507 , 16193.65700638,\n",
       "       16774.35165898, 16232.01250439, 10621.32269212, 10621.32269212,\n",
       "       18036.9536937 , 18208.03872154, 19633.90021086, 25530.04045633,\n",
       "       25996.6359868 , 26734.65012691, -1481.28889727,  4655.05455499,\n",
       "        4763.92684543,  5019.51072075,  5543.28751782,  8477.43453608,\n",
       "        5826.35547297,  5894.78948411,  5894.78948411,  8673.40465888,\n",
       "       12528.96986454, 18033.50821987,  2514.87539344,  5556.62590679,\n",
       "        3512.15132738,  6631.38203079,  6681.15222071,  6849.12661168,\n",
       "        6892.67552786,  9723.08620511,  9887.94995921,  9934.60951226,\n",
       "       10146.1328194 , 11240.50567186, 10186.22451351, 10885.2541009 ,\n",
       "        4655.05455499,  4763.92684543, 12973.25930694, 34239.19102087,\n",
       "       34239.19102087, 41551.14469471,  6922.40536039,  5731.36586927,\n",
       "        5746.91905362,  5871.34452841,  5886.89771276,  7312.14020322,\n",
       "        7312.14020322,  7327.69338757,  8665.79116232, 11731.29052399,\n",
       "       11809.05644574, 11731.29052399, 11809.05644574, 10256.28841207,\n",
       "       11855.71599879, 15369.49206704, 12904.37424102, 23210.78107532,\n",
       "       23941.78073972, 23148.56833792, 24003.99347712, 30772.59085594,\n",
       "       30601.5058281 , 39881.55398387, 38852.39389664, 16390.93679496,\n",
       "        5377.00360244,  5981.65695812,  6168.29517031,  8530.31536287,\n",
       "       10527.93293297, 11535.88350111, 18101.942231  , 18375.67827555,\n",
       "       18391.2314599 , 11650.9770653 , 11775.40254009, 10630.58394967,\n",
       "       10630.58394967,  6547.75434854,  5420.10733796,  6637.96281776,\n",
       "        6700.17555516,  6967.69032596,  6740.61383447,  6980.13287344,\n",
       "        6802.82657186,  7008.12860527,  6917.92013605, 10906.68366617,\n",
       "       10838.24965504, 22070.01402446, 22695.2520353 , 21437.36493695,\n",
       "       21435.38049992, 21815.08112543, 21646.90380707, 14817.60958445,\n",
       "       17435.45041038, 15470.84332711, 19556.96692656, 14997.74497294,\n",
       "       17606.53543822, 15650.9787156 , 19728.0519544 , 14988.69461229,\n",
       "       17606.53543822, 16544.06945759,  5150.15746928,  8477.43453608,\n",
       "        5826.35547297,  5894.78948411,  7430.52266444, 12528.96986454,\n",
       "       18055.28267796, 16849.01543386, 21717.34627615, 21717.34627615,\n",
       "       21854.21429843, 23745.32596253, 14023.69215555, 13653.52636804,\n",
       "       13047.78569717, 13162.87926135, 13200.20690379, 13358.84938415,\n",
       "       13637.30674275, 13758.62158067,  7223.15915027,  9543.41807066,\n",
       "        9916.69449504,  8532.90377535,  9371.25149724,  9958.1371295 ,\n",
       "       11374.56381236, 10933.7941289 ,  9856.90744991, 10490.45263522,\n",
       "       10785.06704005, 12416.8368848 ,  5961.75188605,  6307.42917958,\n",
       "        6229.66325783,  7228.57429402,  8132.64199116, 10683.36422441,\n",
       "        7253.8945138 ,  7340.99234615,  9456.37965573,  7535.86473316,\n",
       "        5548.41013622,  7905.20742252,  7961.19888618,  8051.40735541,\n",
       "        8160.27964585,  9032.93224968,  9141.80454013, 15139.97159767,\n",
       "       15127.52905019, 15174.18860324, 15572.35012257, 15681.22241302,\n",
       "       16493.09863604, 11162.3769747 , 10540.90894558, 11785.29755062,\n",
       "       11785.29755062, 11922.16557289, 20175.70641686, 20300.13189166,\n",
       "       20680.48103331, 19608.46310492,  6210.50893845,  9355.60885768,\n",
       "        6219.84084906,  9364.94076829,  9560.91089109,  7016.89205444,\n",
       "        9919.98363933, 10345.92294364, 10243.27192693, 15456.83266921,\n",
       "        8524.02670335, 10966.97556569, 16088.24807238, 16467.74577049,\n",
       "       16159.79272038, 16492.63086545, 16084.65398221, 16433.04531163,\n",
       "       16212.67354717, 16830.02382564, 20811.30761181, 17701.47829228,\n",
       "       17078.62039991])"
      ]
     },
     "execution_count": 6,
     "metadata": {},
     "output_type": "execute_result"
    }
   ],
   "source": [
    "from sklearn.linear_model import LinearRegression\n",
    "# 선형 회귀 모델 생성\n",
    "lm = LinearRegression()\n",
    "\n",
    "df[df['horsepower'].isin(['?'])] = df[df['horsepower'].isin(['?'])].replace('?', 0)\n",
    "df[df['curb-weight'].isin(['?'])] = df[df['curb-weight'].isin(['?'])].replace('?', 0)\n",
    "df[df['engine-size'].isin(['?'])] = df[df['engine-size'].isin(['?'])].replace('?', 0)\n",
    "df[df['highway-mpg'].isin(['?'])] = df[df['highway-mpg'].isin(['?'])].replace('?', 0)\n",
    "df[df['price'].isin(['?'])] = df[df['price'].isin(['?'])].replace('?', 0)\n",
    "\n",
    "# 4가지 변수\n",
    "z = df[['horsepower', 'curb-weight' , 'engine-size', 'highway-mpg']]\n",
    "\n",
    "# 모델 교육\n",
    "lm.fit(z, df['price'])\n",
    "\n",
    "Yhat = lm.predict(z)\n",
    "Yhat"
   ]
  },
  {
   "cell_type": "code",
   "execution_count": 33,
   "metadata": {},
   "outputs": [
    {
     "data": {
      "text/plain": [
       "-3558.1248837675957"
      ]
     },
     "execution_count": 33,
     "metadata": {},
     "output_type": "execute_result"
    }
   ],
   "source": [
    "# 절편 (b0)\n",
    "lm.intercept_"
   ]
  },
  {
   "cell_type": "code",
   "execution_count": 32,
   "metadata": {},
   "outputs": [
    {
     "data": {
      "text/plain": [
       "array([  -4.52518033,    3.11063687,  113.42306658, -174.59226569])"
      ]
     },
     "execution_count": 32,
     "metadata": {},
     "output_type": "execute_result"
    }
   ],
   "source": [
    "# 기울기 (b1 ~ b4)\n",
    "lm.coef_"
   ]
  },
  {
   "cell_type": "markdown",
   "metadata": {},
   "source": [
    "# Model Evaluation using Viualization"
   ]
  },
  {
   "cell_type": "markdown",
   "metadata": {},
   "source": [
    "## 1. Regression Plot"
   ]
  },
  {
   "cell_type": "code",
   "execution_count": 60,
   "metadata": {},
   "outputs": [
    {
     "data": {
      "text/plain": [
       "(0, 48281.09207486772)"
      ]
     },
     "execution_count": 60,
     "metadata": {},
     "output_type": "execute_result"
    },
    {
     "data": {
      "image/png": "[encoded data removed]",
      "text/plain": [
       "<Figure size 432x288 with 1 Axes>"
      ]
     },
     "metadata": {
      "needs_background": "light"
     },
     "output_type": "display_data"
    }
   ],
   "source": [
    "import seaborn as sns\n",
    "\n",
    "\n",
    "df[df['price'].isin(['?'])] = df[df['price'].isin(['?'])].replace('?', 0)\n",
    "df[\"price\"] = df[\"price\"].astype('int64')\n",
    "\n",
    "sns.regplot(x = \"highway-mpg\", y = \"price\", data = df)\n",
    "plt.ylim(0, )"
   ]
  },
  {
   "cell_type": "markdown",
   "metadata": {},
   "source": [
    "- 가로축 x = 독립 변수 , 세로축 y = 종속 변수\n",
    "- 각 점은 다른 목표 지점\n",
    "- 꺾은 선 = 예측된 값"
   ]
  },
  {
   "cell_type": "markdown",
   "metadata": {},
   "source": [
    "## 2. Residual Plot"
   ]
  },
  {
   "cell_type": "markdown",
   "metadata": {},
   "source": [
    "- 예측된 값과 실제 값의 차이를 표시\n",
    "- 결과가 0 가 되면 ( = mean ) 완벽"
   ]
  },
  {
   "cell_type": "markdown",
   "metadata": {},
   "source": [
    "- 플롯이 곡률이 있다\n",
    "    - = 선형 가정이 부정확 하다\n",
    "- 분산이 x와 함께 증가한다\n",
    "    - = 모델이 정확하지 않다"
   ]
  },
  {
   "cell_type": "code",
   "execution_count": 8,
   "metadata": {},
   "outputs": [
    {
     "data": {
      "text/plain": [
       "<matplotlib.axes._subplots.AxesSubplot at 0x10c2b8b0>"
      ]
     },
     "execution_count": 8,
     "metadata": {},
     "output_type": "execute_result"
    },
    {
     "data": {
      "image/png": "[encoded data removed]",
      "text/plain": [
       "<Figure size 432x288 with 1 Axes>"
      ]
     },
     "metadata": {
      "needs_background": "light"
     },
     "output_type": "display_data"
    }
   ],
   "source": [
    "import seaborn as sns\n",
    "from sklearn.linear_model import LinearRegression\n",
    "# 선형 회귀 모델 생성\n",
    "lm = LinearRegression()\n",
    "\n",
    "df[df['price'].isin(['?'])] = df[df['price'].isin(['?'])].replace('?', 0)\n",
    "df[\"price\"] = df[\"price\"].astype('int64')\n",
    "\n",
    "sns.residplot(df[\"highway-mpg\"], df[\"price\"])"
   ]
  },
  {
   "cell_type": "markdown",
   "metadata": {},
   "source": [
    "- 첫번째 매개변수 = 종속 변수 or 기능, 두번째 매개변수 = 예측 대상 변수\n",
    "- 위의 결과는 곡률이 있다"
   ]
  },
  {
   "cell_type": "markdown",
   "metadata": {},
   "source": [
    "## 3. Distribution Plots"
   ]
  },
  {
   "cell_type": "markdown",
   "metadata": {},
   "source": [
    "- 두 개 이상의 독립 변수가 있는 모델을 시각화하는데 유용\n",
    "- 실제 값과 예측된 값의 차이를 볼 수 있음\n",
    "- x 축의 Points 를 여러가지로 지정하고, 각 포인트마다 예측하여 히스토그램으로\n",
    "    - 그 후에 그래프로 표현"
   ]
  },
  {
   "cell_type": "code",
   "execution_count": 32,
   "metadata": {
    "scrolled": true
   },
   "outputs": [
    {
     "data": {
      "text/plain": [
       "<matplotlib.axes._subplots.AxesSubplot at 0xfd9710>"
      ]
     },
     "execution_count": 32,
     "metadata": {},
     "output_type": "execute_result"
    },
    {
     "data": {
      "image/png": "[encoded data removed]",
      "text/plain": [
       "<Figure size 432x288 with 1 Axes>"
      ]
     },
     "metadata": {
      "needs_background": "light"
     },
     "output_type": "display_data"
    }
   ],
   "source": [
    "import seaborn as sns\n",
    "from sklearn.linear_model import LinearRegression\n",
    "# 선형 회귀 모델 생성\n",
    "lm = LinearRegression()\n",
    "\n",
    "df[df['horsepower'].isin(['?'])] = df[df['horsepower'].isin(['?'])].replace('?', 0)\n",
    "df[df['curb-weight'].isin(['?'])] = df[df['curb-weight'].isin(['?'])].replace('?', 0)\n",
    "df[df['engine-size'].isin(['?'])] = df[df['engine-size'].isin(['?'])].replace('?', 0)\n",
    "df[df['highway-mpg'].isin(['?'])] = df[df['highway-mpg'].isin(['?'])].replace('?', 0)\n",
    "\n",
    "# 4가지 변수\n",
    "z = df[['horsepower', 'curb-weight' , 'engine-size', 'highway-mpg']]\n",
    "# 모델 교육\n",
    "lm.fit(z, df['price'])\n",
    "Yhat = lm.predict(z)\n",
    "\n",
    "\n",
    "axl = sns.distplot(df['price'], hist=True, color =\"r\", label = \"Actual Value\")\n",
    "sns.distplot(Yhat, hist=False, color=\"b\", label=\"Fitted Values\", ax=axl, rug = True)"
   ]
  },
  {
   "cell_type": "code",
   "execution_count": 34,
   "metadata": {},
   "outputs": [
    {
     "data": {
      "text/plain": [
       "<matplotlib.axes._subplots.AxesSubplot at 0xe76f70>"
      ]
     },
     "execution_count": 34,
     "metadata": {},
     "output_type": "execute_result"
    },
    {
     "data": {
      "image/png": "[encoded data removed]",
      "text/plain": [
       "<Figure size 432x288 with 1 Axes>"
      ]
     },
     "metadata": {
      "needs_background": "light"
     },
     "output_type": "display_data"
    }
   ],
   "source": [
    "axl = sns.distplot(df['price'], hist=True, color =\"r\", label = \"Actual Value\")\n",
    "sns.distplot(Yhat, hist=False, color=\"b\", label=\"Fitted Values\", ax=axl,kde = True, rug = True)"
   ]
  },
  {
   "cell_type": "markdown",
   "metadata": {},
   "source": [
    "- 모델에서 나온 적합한 값 = 파란색\n",
    "- 실제 값 = 빨간색"
   ]
  },
  {
   "cell_type": "code",
   "execution_count": 20,
   "metadata": {},
   "outputs": [
    {
     "data": {
      "text/plain": [
       "<matplotlib.axes._subplots.AxesSubplot at 0x11e33f30>"
      ]
     },
     "execution_count": 20,
     "metadata": {},
     "output_type": "execute_result"
    },
    {
     "data": {
      "image/png": "[encoded data removed]",
      "text/plain": [
       "<Figure size 432x288 with 1 Axes>"
      ]
     },
     "metadata": {
      "needs_background": "light"
     },
     "output_type": "display_data"
    }
   ],
   "source": [
    "x = df[[\"horsepower\"]]\n",
    "lm.fit(x, df[\"price\"])\n",
    "Yhat = lm.predict(x)\n",
    "\n",
    "axl = sns.distplot(df['price'], hist=True, color =\"r\", label = \"Actual Value\")\n",
    "sns.distplot(x, hist=False, color=\"b\", label=\"Fitted Values\", ax=axl)"
   ]
  },
  {
   "cell_type": "code",
   "execution_count": null,
   "metadata": {},
   "outputs": [],
   "source": []
  },
  {
   "cell_type": "code",
   "execution_count": null,
   "metadata": {},
   "outputs": [],
   "source": []
  },
  {
   "cell_type": "code",
   "execution_count": null,
   "metadata": {},
   "outputs": [],
   "source": []
  },
  {
   "cell_type": "code",
   "execution_count": null,
   "metadata": {},
   "outputs": [],
   "source": []
  },
  {
   "cell_type": "code",
   "execution_count": null,
   "metadata": {},
   "outputs": [],
   "source": []
  },
  {
   "cell_type": "code",
   "execution_count": null,
   "metadata": {},
   "outputs": [],
   "source": []
  },
  {
   "cell_type": "code",
   "execution_count": null,
   "metadata": {},
   "outputs": [],
   "source": []
  },
  {
   "cell_type": "code",
   "execution_count": null,
   "metadata": {},
   "outputs": [],
   "source": []
  }
 ],
 "metadata": {
  "kernelspec": {
   "display_name": "Python 3",
   "language": "python",
   "name": "python3"
  },
  "language_info": {
   "codemirror_mode": {
    "name": "ipython",
    "version": 3
   },
   "file_extension": ".py",
   "mimetype": "text/x-python",
   "name": "python",
   "nbconvert_exporter": "python",
   "pygments_lexer": "ipython3",
   "version": "3.7.4"
  }
 },
 "nbformat": 4,
 "nbformat_minor": 2
}
